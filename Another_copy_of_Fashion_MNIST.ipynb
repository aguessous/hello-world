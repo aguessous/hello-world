{
  "nbformat": 4,
  "nbformat_minor": 0,
  "metadata": {
    "colab": {
      "provenance": [],
      "authorship_tag": "ABX9TyPKxuxlH2oqMklyL0wQY38O",
      "include_colab_link": true
    },
    "kernelspec": {
      "name": "python3",
      "display_name": "Python 3"
    },
    "language_info": {
      "name": "python"
    }
  },
  "cells": [
    {
      "cell_type": "markdown",
      "metadata": {
        "id": "view-in-github",
        "colab_type": "text"
      },
      "source": [
        "<a href=\"https://colab.research.google.com/github/aguessous/hello-world/blob/master/Another_copy_of_Fashion_MNIST.ipynb\" target=\"_parent\"><img src=\"https://colab.research.google.com/assets/colab-badge.svg\" alt=\"Open In Colab\"/></a>"
      ]
    },
    {
      "cell_type": "markdown",
      "source": [
        "# 1 : Téléchargez le contenu de la base de données."
      ],
      "metadata": {
        "id": "KrFS4OT4yUXR"
      }
    },
    {
      "cell_type": "code",
      "execution_count": null,
      "metadata": {
        "colab": {
          "base_uri": "https://localhost:8080/"
        },
        "id": "W-3jsUMswCOc",
        "outputId": "d53939a5-16f8-4125-866e-06050ec5b702"
      },
      "outputs": [
        {
          "output_type": "stream",
          "name": "stdout",
          "text": [
            "Images d'entraînement : (60000, 28, 28)\n",
            "Labels d'entraînement : (60000,)\n",
            "Images de test        : (10000, 28, 28)\n",
            "Labels de test        : (10000,)\n",
            "y_train[0] = 9 -> Ankle boot (Bottine)\n",
            "y_train[1] = 0 -> T-shirt/top\n",
            "y_train[2] = 0 -> T-shirt/top\n",
            "y_train[3] = 3 -> Dress (Robe)\n",
            "y_train[4] = 0 -> T-shirt/top\n"
          ]
        }
      ],
      "source": [
        "# 1) Importer TensorFlow/Keras et numpy\n",
        "import numpy as np\n",
        "from tensorflow import keras\n",
        "\n",
        "# 2) Récupérer l'objet \"fashion_mnist\" depuis keras.datasets\n",
        "fashion_mnist = keras.datasets.fashion_mnist\n",
        "\n",
        "# 3) Télécharger/charger les données (train + test)\n",
        "#    load_data() renvoie deux tuples:\n",
        "#    - (X_train, y_train) pour l'entraînement\n",
        "#    - (X_test,  y_test)  pour le test\n",
        "#    Si c'est la première fois, Keras tente de télécharger sur internet,\n",
        "#    puis met en cache dans ~/.keras/datasets/\n",
        "(X_train, y_train), (X_test, y_test) = fashion_mnist.load_data()\n",
        "\n",
        "# 4) Vérifier les formes (dimensions) des tenseurs d'images et de labels\n",
        "print(\"Images d'entraînement :\", X_train.shape)  # attendu: (60000, 28, 28)\n",
        "print(\"Labels d'entraînement :\", y_train.shape)  # attendu: (60000,)\n",
        "print(\"Images de test        :\", X_test.shape)   # attendu: (10000, 28, 28)\n",
        "print(\"Labels de test        :\", y_test.shape)   # attendu: (10000,)\n",
        "\n",
        "# 5) (Optionnel) Dictionnaire des noms de classes pour plus de lisibilité\n",
        "class_names = {\n",
        "    0: \"T-shirt/top\", 1: \"Trouser (Pantalon)\", 2: \"Pullover\",\n",
        "    3: \"Dress (Robe)\", 4: \"Coat (Manteau)\",    5: \"Sandal (Sandale)\",\n",
        "    6: \"Shirt (Chemise)\", 7: \"Sneaker (Basket)\", 8: \"Bag (Sac)\",\n",
        "    9: \"Ankle boot (Bottine)\"\n",
        "}\n",
        "\n",
        "# 6) Exemple : afficher les 5 premiers labels avec leur nom lisible\n",
        "for i in range(5):\n",
        "    print(f\"y_train[{i}] = {y_train[i]} -> {class_names[int(y_train[i])]}\")\n"
      ]
    },
    {
      "cell_type": "markdown",
      "source": [
        "# 2 . Affichez trois échantillons de cette base de données"
      ],
      "metadata": {
        "id": "NrC0M5gpyh4d"
      }
    },
    {
      "cell_type": "code",
      "source": [
        "import matplotlib.pyplot as plt\n",
        "\n",
        "# On affiche 3 images de la base d'entraînement\n",
        "plt.figure(figsize=(12, 4))  # taille de l'affichage\n",
        "\n",
        "for i in range(3):\n",
        "    plt.subplot(1, 3, i + 1)  # 1 ligne, 3 colonnes, position i+1\n",
        "    plt.imshow(X_train[i], cmap=\"gray\")  # afficher l'image en niveaux de gris\n",
        "    plt.title(class_names[y_train[i]])   # titre = nom de la classe\n",
        "    plt.axis(\"off\")  # enlever les axes pour plus de clarté\n",
        "\n",
        "plt.show()\n"
      ],
      "metadata": {
        "colab": {
          "base_uri": "https://localhost:8080/",
          "height": 332
        },
        "id": "9WbNrMHcymXG",
        "outputId": "89fb49f7-4539-4dfa-f618-40da618984c2"
      },
      "execution_count": null,
      "outputs": [
        {
          "output_type": "display_data",
          "data": {
            "text/plain": [
              "<Figure size 1200x400 with 3 Axes>"
            ],
            "image/png": "[encoded data removed]"
          },
          "metadata": {}
        }
      ]
    },
    {
      "cell_type": "markdown",
      "source": [
        "# 3. Procédez à une normalisation des données ente 0 et 1"
      ],
      "metadata": {
        "id": "xilYZlkxzyqg"
      }
    },
    {
      "cell_type": "code",
      "source": [
        "# Normalisation : on convertit les pixels de [0,255] vers [0,1]\n",
        "X_train = X_train / 255.0\n",
        "X_test = X_test / 255.0\n",
        "\n",
        "# Vérification\n",
        "print(\"Min pixel:\", X_train.min(), \"Max pixel:\", X_train.max())\n"
      ],
      "metadata": {
        "colab": {
          "base_uri": "https://localhost:8080/"
        },
        "id": "-m2Y8f05z5NW",
        "outputId": "70fd5257-ec05-4bea-9d0f-b6140bdcdede"
      },
      "execution_count": null,
      "outputs": [
        {
          "output_type": "stream",
          "name": "stdout",
          "text": [
            "Min pixel: 0.0 Max pixel: 1.0\n"
          ]
        }
      ]
    },
    {
      "cell_type": "markdown",
      "source": [
        "# 4. Vérifiez la taille de l’échantillon d’entrainement et de test par classe"
      ],
      "metadata": {
        "id": "K4BaT3zB2PRe"
      }
    },
    {
      "cell_type": "code",
      "source": [
        "import pandas as pd\n",
        "\n",
        "df_train = pd.DataFrame({\"label\": y_train})\n",
        "df_test  = pd.DataFrame({\"label\": y_test})\n",
        "\n",
        "train_counts = df_train[\"label\"].value_counts().sort_index()\n",
        "test_counts  = df_test[\"label\"].value_counts().sort_index()\n",
        "\n",
        "summary = pd.DataFrame({\n",
        "    \"Nom\": [class_names[i] for i in range(10)],\n",
        "    \"Train\": [train_counts.get(i, 0) for i in range(10)],\n",
        "    \"Test\":  [test_counts.get(i, 0) for i in range(10)],\n",
        "}, index=range(10))\n",
        "\n",
        "print(summary)\n",
        "print(\"\\nVérif total train =\", summary[\"Train\"].sum(), \"==\", len(y_train))\n",
        "print(\"Vérif total test  =\", summary[\"Test\"].sum(), \"==\", len(y_test))\n"
      ],
      "metadata": {
        "colab": {
          "base_uri": "https://localhost:8080/"
        },
        "id": "HBIeKhYs2TEx",
        "outputId": "9dbcad81-5ea8-4dae-c7ed-13b65fb44658"
      },
      "execution_count": null,
      "outputs": [
        {
          "output_type": "stream",
          "name": "stdout",
          "text": [
            "                    Nom  Train  Test\n",
            "0           T-shirt/top   6000  1000\n",
            "1    Trouser (Pantalon)   6000  1000\n",
            "2              Pullover   6000  1000\n",
            "3          Dress (Robe)   6000  1000\n",
            "4        Coat (Manteau)   6000  1000\n",
            "5      Sandal (Sandale)   6000  1000\n",
            "6       Shirt (Chemise)   6000  1000\n",
            "7      Sneaker (Basket)   6000  1000\n",
            "8             Bag (Sac)   6000  1000\n",
            "9  Ankle boot (Bottine)   6000  1000\n",
            "\n",
            "Vérif total train = 60000 == 60000\n",
            "Vérif total test  = 10000 == 10000\n"
          ]
        }
      ]
    },
    {
      "cell_type": "markdown",
      "source": [
        "# 6000 images pour l'entrainement et 1000 pour les tests"
      ],
      "metadata": {
        "id": "4e9Mnv3ogjYh"
      }
    },
    {
      "cell_type": "markdown",
      "source": [
        "# 5. Développez un RNP à deux couches cachées (de dimensions [300,100])."
      ],
      "metadata": {
        "id": "tjJva8dg4Cs-"
      }
    },
    {
      "cell_type": "code",
      "source": [
        "import tensorflow as tf\n",
        "from tensorflow.keras import models, layers, initializers\n",
        "\n",
        "tf.random.set_seed(42)  # pour la reproductibilité des poids initiaux\n",
        "\n",
        "model = models.Sequential()\n",
        "\n",
        "# 1) Aplatir l'image 28x28 -> vecteur 784\n",
        "model.add(layers.Flatten(input_shape=(28, 28)))\n",
        "\n",
        "# 2) Couche cachée 1: 300 neurones, init He\n",
        "model.add(layers.Dense(\n",
        "    300,\n",
        "    kernel_initializer=initializers.HeNormal(),  # He pour familles ReLU\n",
        "    bias_initializer='zeros'\n",
        "))\n",
        "\n",
        "# Activation séparée: LeakyReLU (évite les \"neurones morts\" de ReLU)\n",
        "model.add(layers.LeakyReLU(negative_slope=0.01))\n",
        "\n",
        "# 3) Couche cachée 2: 100 neurones, init He\n",
        "model.add(layers.Dense(\n",
        "    100,\n",
        "    kernel_initializer=initializers.HeNormal(),\n",
        "    bias_initializer='zeros'\n",
        "))\n",
        "\n",
        "model.add(layers.LeakyReLU(negative_slope=0.01))\n",
        "\n",
        "# 4) Sortie: 10 classes -> Softmax\n",
        "model.add(layers.Dense(\n",
        "    10,\n",
        "    activation='softmax',\n",
        "    kernel_initializer=initializers.HeNormal(),  # possible aussi ici\n",
        "    bias_initializer='zeros'\n",
        "))\n",
        "\n",
        "\n"
      ],
      "metadata": {
        "id": "NENDlM_-4Fr7",
        "colab": {
          "base_uri": "https://localhost:8080/"
        },
        "outputId": "18fb8606-41c1-4e35-dac0-afc0a62e1a3e"
      },
      "execution_count": null,
      "outputs": [
        {
          "output_type": "stream",
          "name": "stderr",
          "text": [
            "/usr/local/lib/python3.12/dist-packages/keras/src/layers/reshaping/flatten.py:37: UserWarning: Do not pass an `input_shape`/`input_dim` argument to a layer. When using Sequential models, prefer using an `Input(shape)` object as the first layer in the model instead.\n",
            "  super().__init__(**kwargs)\n"
          ]
        }
      ]
    },
    {
      "cell_type": "markdown",
      "source": [
        "# 6. Affichez le résumé du modèle"
      ],
      "metadata": {
        "id": "oPbn7bDU5mfm"
      }
    },
    {
      "cell_type": "code",
      "source": [
        "model.summary()"
      ],
      "metadata": {
        "colab": {
          "base_uri": "https://localhost:8080/",
          "height": 340
        },
        "id": "fn8XbKjw5nyN",
        "outputId": "4aafd1f8-eff8-4018-f860-281569aee748"
      },
      "execution_count": null,
      "outputs": [
        {
          "output_type": "display_data",
          "data": {
            "text/plain": [
              "\u001b[1mModel: \"sequential_7\"\u001b[0m\n"
            ],
            "text/html": [
              "<pre style=\"white-space:pre;overflow-x:auto;line-height:normal;font-family:Menlo,'DejaVu Sans Mono',consolas,'Courier New',monospace\"><span style=\"font-weight: bold\">Model: \"sequential_7\"</span>\n",
              "</pre>\n"
            ]
          },
          "metadata": {}
        },
        {
          "output_type": "display_data",
          "data": {
            "text/plain": [
              "┏━━━━━━━━━━━━━━━━━━━━━━━━━━━━━━━━━┳━━━━━━━━━━━━━━━━━━━━━━━━┳━━━━━━━━━━━━━━━┓\n",
              "┃\u001b[1m \u001b[0m\u001b[1mLayer (type)                   \u001b[0m\u001b[1m \u001b[0m┃\u001b[1m \u001b[0m\u001b[1mOutput Shape          \u001b[0m\u001b[1m \u001b[0m┃\u001b[1m \u001b[0m\u001b[1m      Param #\u001b[0m\u001b[1m \u001b[0m┃\n",
              "┡━━━━━━━━━━━━━━━━━━━━━━━━━━━━━━━━━╇━━━━━━━━━━━━━━━━━━━━━━━━╇━━━━━━━━━━━━━━━┩\n",
              "│ flatten_5 (\u001b[38;5;33mFlatten\u001b[0m)             │ (\u001b[38;5;45mNone\u001b[0m, \u001b[38;5;34m784\u001b[0m)            │             \u001b[38;5;34m0\u001b[0m │\n",
              "├─────────────────────────────────┼────────────────────────┼───────────────┤\n",
              "│ dense_23 (\u001b[38;5;33mDense\u001b[0m)                │ (\u001b[38;5;45mNone\u001b[0m, \u001b[38;5;34m300\u001b[0m)            │       \u001b[38;5;34m235,500\u001b[0m │\n",
              "├─────────────────────────────────┼────────────────────────┼───────────────┤\n",
              "│ leaky_re_lu_6 (\u001b[38;5;33mLeakyReLU\u001b[0m)       │ (\u001b[38;5;45mNone\u001b[0m, \u001b[38;5;34m300\u001b[0m)            │             \u001b[38;5;34m0\u001b[0m │\n",
              "├─────────────────────────────────┼────────────────────────┼───────────────┤\n",
              "│ dense_24 (\u001b[38;5;33mDense\u001b[0m)                │ (\u001b[38;5;45mNone\u001b[0m, \u001b[38;5;34m100\u001b[0m)            │        \u001b[38;5;34m30,100\u001b[0m │\n",
              "├─────────────────────────────────┼────────────────────────┼───────────────┤\n",
              "│ leaky_re_lu_7 (\u001b[38;5;33mLeakyReLU\u001b[0m)       │ (\u001b[38;5;45mNone\u001b[0m, \u001b[38;5;34m100\u001b[0m)            │             \u001b[38;5;34m0\u001b[0m │\n",
              "├─────────────────────────────────┼────────────────────────┼───────────────┤\n",
              "│ dense_25 (\u001b[38;5;33mDense\u001b[0m)                │ (\u001b[38;5;45mNone\u001b[0m, \u001b[38;5;34m10\u001b[0m)             │         \u001b[38;5;34m1,010\u001b[0m │\n",
              "└─────────────────────────────────┴────────────────────────┴───────────────┘\n"
            ],
            "text/html": [
              "<pre style=\"white-space:pre;overflow-x:auto;line-height:normal;font-family:Menlo,'DejaVu Sans Mono',consolas,'Courier New',monospace\">┏━━━━━━━━━━━━━━━━━━━━━━━━━━━━━━━━━┳━━━━━━━━━━━━━━━━━━━━━━━━┳━━━━━━━━━━━━━━━┓\n",
              "┃<span style=\"font-weight: bold\"> Layer (type)                    </span>┃<span style=\"font-weight: bold\"> Output Shape           </span>┃<span style=\"font-weight: bold\">       Param # </span>┃\n",
              "┡━━━━━━━━━━━━━━━━━━━━━━━━━━━━━━━━━╇━━━━━━━━━━━━━━━━━━━━━━━━╇━━━━━━━━━━━━━━━┩\n",
              "│ flatten_5 (<span style=\"color: #0087ff; text-decoration-color: #0087ff\">Flatten</span>)             │ (<span style=\"color: #00d7ff; text-decoration-color: #00d7ff\">None</span>, <span style=\"color: #00af00; text-decoration-color: #00af00\">784</span>)            │             <span style=\"color: #00af00; text-decoration-color: #00af00\">0</span> │\n",
              "├─────────────────────────────────┼────────────────────────┼───────────────┤\n",
              "│ dense_23 (<span style=\"color: #0087ff; text-decoration-color: #0087ff\">Dense</span>)                │ (<span style=\"color: #00d7ff; text-decoration-color: #00d7ff\">None</span>, <span style=\"color: #00af00; text-decoration-color: #00af00\">300</span>)            │       <span style=\"color: #00af00; text-decoration-color: #00af00\">235,500</span> │\n",
              "├─────────────────────────────────┼────────────────────────┼───────────────┤\n",
              "│ leaky_re_lu_6 (<span style=\"color: #0087ff; text-decoration-color: #0087ff\">LeakyReLU</span>)       │ (<span style=\"color: #00d7ff; text-decoration-color: #00d7ff\">None</span>, <span style=\"color: #00af00; text-decoration-color: #00af00\">300</span>)            │             <span style=\"color: #00af00; text-decoration-color: #00af00\">0</span> │\n",
              "├─────────────────────────────────┼────────────────────────┼───────────────┤\n",
              "│ dense_24 (<span style=\"color: #0087ff; text-decoration-color: #0087ff\">Dense</span>)                │ (<span style=\"color: #00d7ff; text-decoration-color: #00d7ff\">None</span>, <span style=\"color: #00af00; text-decoration-color: #00af00\">100</span>)            │        <span style=\"color: #00af00; text-decoration-color: #00af00\">30,100</span> │\n",
              "├─────────────────────────────────┼────────────────────────┼───────────────┤\n",
              "│ leaky_re_lu_7 (<span style=\"color: #0087ff; text-decoration-color: #0087ff\">LeakyReLU</span>)       │ (<span style=\"color: #00d7ff; text-decoration-color: #00d7ff\">None</span>, <span style=\"color: #00af00; text-decoration-color: #00af00\">100</span>)            │             <span style=\"color: #00af00; text-decoration-color: #00af00\">0</span> │\n",
              "├─────────────────────────────────┼────────────────────────┼───────────────┤\n",
              "│ dense_25 (<span style=\"color: #0087ff; text-decoration-color: #0087ff\">Dense</span>)                │ (<span style=\"color: #00d7ff; text-decoration-color: #00d7ff\">None</span>, <span style=\"color: #00af00; text-decoration-color: #00af00\">10</span>)             │         <span style=\"color: #00af00; text-decoration-color: #00af00\">1,010</span> │\n",
              "└─────────────────────────────────┴────────────────────────┴───────────────┘\n",
              "</pre>\n"
            ]
          },
          "metadata": {}
        },
        {
          "output_type": "display_data",
          "data": {
            "text/plain": [
              "\u001b[1m Total params: \u001b[0m\u001b[38;5;34m266,610\u001b[0m (1.02 MB)\n"
            ],
            "text/html": [
              "<pre style=\"white-space:pre;overflow-x:auto;line-height:normal;font-family:Menlo,'DejaVu Sans Mono',consolas,'Courier New',monospace\"><span style=\"font-weight: bold\"> Total params: </span><span style=\"color: #00af00; text-decoration-color: #00af00\">266,610</span> (1.02 MB)\n",
              "</pre>\n"
            ]
          },
          "metadata": {}
        },
        {
          "output_type": "display_data",
          "data": {
            "text/plain": [
              "\u001b[1m Trainable params: \u001b[0m\u001b[38;5;34m266,610\u001b[0m (1.02 MB)\n"
            ],
            "text/html": [
              "<pre style=\"white-space:pre;overflow-x:auto;line-height:normal;font-family:Menlo,'DejaVu Sans Mono',consolas,'Courier New',monospace\"><span style=\"font-weight: bold\"> Trainable params: </span><span style=\"color: #00af00; text-decoration-color: #00af00\">266,610</span> (1.02 MB)\n",
              "</pre>\n"
            ]
          },
          "metadata": {}
        },
        {
          "output_type": "display_data",
          "data": {
            "text/plain": [
              "\u001b[1m Non-trainable params: \u001b[0m\u001b[38;5;34m0\u001b[0m (0.00 B)\n"
            ],
            "text/html": [
              "<pre style=\"white-space:pre;overflow-x:auto;line-height:normal;font-family:Menlo,'DejaVu Sans Mono',consolas,'Courier New',monospace\"><span style=\"font-weight: bold\"> Non-trainable params: </span><span style=\"color: #00af00; text-decoration-color: #00af00\">0</span> (0.00 B)\n",
              "</pre>\n"
            ]
          },
          "metadata": {}
        }
      ]
    },
    {
      "cell_type": "markdown",
      "source": [
        "# 7. Entrainez le modèle et déterminez le taux de classification global, les taux de classification par classe et la matrice de confusion"
      ],
      "metadata": {
        "id": "n93ae6qp6n3B"
      }
    },
    {
      "cell_type": "code",
      "source": [
        "import numpy as np\n",
        "import tensorflow as tf\n",
        "from tensorflow.keras import callbacks\n",
        "from sklearn.metrics import confusion_matrix, classification_report\n",
        "\n",
        "# --- 1) Sécurité/reproductibilité\n",
        "tf.random.set_seed(42)\n",
        "np.random.seed(42)\n",
        "\n",
        "# --- 2) Compilation du modèle\n",
        "model.compile(\n",
        "    optimizer='adam',\n",
        "    loss='sparse_categorical_crossentropy',\n",
        "    metrics=['accuracy']\n",
        ")\n",
        "\n",
        "# --- 3) Callbacks utiles\n",
        "early_stop = callbacks.EarlyStopping(\n",
        "    monitor='val_accuracy', patience=3, restore_best_weights=True\n",
        ")\n",
        "\n",
        "# --- 4) Entraînement ---\n",
        "history = model.fit(\n",
        "    X_train, y_train,\n",
        "    epochs=15,\n",
        "    batch_size=128,\n",
        "    validation_split=0.1,   # 10% du train pour valider\n",
        "    callbacks=[early_stop],\n",
        "    verbose=2\n",
        ")\n",
        "\n",
        "# --- 5) Taux global sur le jeu de test ---\n",
        "test_loss, test_acc = model.evaluate(X_test, y_test, verbose=0)\n",
        "print(f\"\\n[GLOBAL] Accuracy test = {test_acc:.4f}\")\n",
        "\n",
        "# --- 6) Prédictions (classes) sur le test ---\n",
        "y_proba = model.predict(X_test, verbose=0)   # shape: (10000, 10)\n",
        "y_pred  = np.argmax(y_proba, axis=1)         # classes prédites 0..9\n",
        "\n",
        "# --- 7) Taux par classe ---\n",
        "per_class_acc = {}\n",
        "for c in range(10):\n",
        "    idx = (y_test == c)\n",
        "    if idx.sum() == 0:\n",
        "        per_class_acc[c] = np.nan\n",
        "    else:\n",
        "        per_class_acc[c] = (y_pred[idx] == y_test[idx]).mean()\n",
        "\n",
        "print(\"\\n[PAR CLASSE] Accuracy par classe :\")\n",
        "for c in range(10):\n",
        "    nom = class_names[c]\n",
        "    acc = per_class_acc[c]\n",
        "    print(f\"  {c:>2} - {nom:<20} : {acc:.4f}\")\n",
        "\n",
        "# --- 8) Matrice de confusion ---\n",
        "cm = confusion_matrix(y_test, y_pred, labels=list(range(10)))\n",
        "print(\"\\nMatrice de confusion (lignes = vraies classes, colonnes = prédictions) :\\n\")\n",
        "print(cm)\n",
        "\n",
        "# --- 9) Rapport détaillé (precision/recall/F1) ---\n",
        "print(\"\\nRapport de classification :\\n\")\n",
        "print(classification_report(y_test, y_pred, target_names=[class_names[i] for i in range(10)], digits=4))\n"
      ],
      "metadata": {
        "colab": {
          "base_uri": "https://localhost:8080/"
        },
        "id": "wTOniSnE6rFg",
        "outputId": "3c44e49e-3e52-4df7-ffe4-afd3c5738fdf"
      },
      "execution_count": null,
      "outputs": [
        {
          "output_type": "stream",
          "name": "stdout",
          "text": [
            "Epoch 1/15\n",
            "422/422 - 6s - 14ms/step - accuracy: 0.8139 - loss: 0.5307 - val_accuracy: 0.8528 - val_loss: 0.4087\n",
            "Epoch 2/15\n",
            "422/422 - 4s - 8ms/step - accuracy: 0.8642 - loss: 0.3792 - val_accuracy: 0.8635 - val_loss: 0.3738\n",
            "Epoch 3/15\n",
            "422/422 - 3s - 8ms/step - accuracy: 0.8775 - loss: 0.3351 - val_accuracy: 0.8678 - val_loss: 0.3485\n",
            "Epoch 4/15\n",
            "422/422 - 6s - 15ms/step - accuracy: 0.8876 - loss: 0.3061 - val_accuracy: 0.8673 - val_loss: 0.3584\n",
            "Epoch 5/15\n",
            "422/422 - 4s - 9ms/step - accuracy: 0.8946 - loss: 0.2848 - val_accuracy: 0.8753 - val_loss: 0.3507\n",
            "Epoch 6/15\n",
            "422/422 - 5s - 12ms/step - accuracy: 0.9002 - loss: 0.2685 - val_accuracy: 0.8752 - val_loss: 0.3404\n",
            "Epoch 7/15\n",
            "422/422 - 5s - 11ms/step - accuracy: 0.9055 - loss: 0.2542 - val_accuracy: 0.8780 - val_loss: 0.3461\n",
            "Epoch 8/15\n",
            "422/422 - 3s - 8ms/step - accuracy: 0.9096 - loss: 0.2420 - val_accuracy: 0.8800 - val_loss: 0.3522\n",
            "Epoch 9/15\n",
            "422/422 - 3s - 8ms/step - accuracy: 0.9147 - loss: 0.2303 - val_accuracy: 0.8830 - val_loss: 0.3444\n",
            "Epoch 10/15\n",
            "422/422 - 6s - 15ms/step - accuracy: 0.9168 - loss: 0.2199 - val_accuracy: 0.8817 - val_loss: 0.3456\n",
            "Epoch 11/15\n",
            "422/422 - 3s - 8ms/step - accuracy: 0.9209 - loss: 0.2089 - val_accuracy: 0.8805 - val_loss: 0.3589\n",
            "Epoch 12/15\n",
            "422/422 - 5s - 12ms/step - accuracy: 0.9244 - loss: 0.1993 - val_accuracy: 0.8878 - val_loss: 0.3383\n",
            "Epoch 13/15\n",
            "422/422 - 5s - 11ms/step - accuracy: 0.9275 - loss: 0.1923 - val_accuracy: 0.8860 - val_loss: 0.3408\n",
            "Epoch 14/15\n",
            "422/422 - 4s - 9ms/step - accuracy: 0.9309 - loss: 0.1844 - val_accuracy: 0.8880 - val_loss: 0.3486\n",
            "Epoch 15/15\n",
            "422/422 - 3s - 8ms/step - accuracy: 0.9339 - loss: 0.1779 - val_accuracy: 0.8868 - val_loss: 0.3453\n",
            "\n",
            "[GLOBAL] Accuracy test = 0.8861\n",
            "\n",
            "[PAR CLASSE] Accuracy par classe :\n",
            "   0 - T-shirt/top          : 0.8510\n",
            "   1 - Trouser (Pantalon)   : 0.9710\n",
            "   2 - Pullover             : 0.7620\n",
            "   3 - Dress (Robe)         : 0.8990\n",
            "   4 - Coat (Manteau)       : 0.8680\n",
            "   5 - Sandal (Sandale)     : 0.9750\n",
            "   6 - Shirt (Chemise)      : 0.6580\n",
            "   7 - Sneaker (Basket)     : 0.9670\n",
            "   8 - Bag (Sac)            : 0.9710\n",
            "   9 - Ankle boot (Bottine) : 0.9390\n",
            "\n",
            "Matrice de confusion (lignes = vraies classes, colonnes = prédictions) :\n",
            "\n",
            "[[851   2  21  32   7   3  77   0   7   0]\n",
            " [  1 971   1  21   5   0   0   0   1   0]\n",
            " [ 18   1 762  11 136   0  70   0   2   0]\n",
            " [ 16   2  15 899  49   1  13   0   5   0]\n",
            " [  2   0  51  20 868   0  57   0   2   0]\n",
            " [  0   0   0   1   0 975   0  16   1   7]\n",
            " [128   3  74  36  86   0 658   0  15   0]\n",
            " [  0   0   0   0   0  17   0 967   0  16]\n",
            " [  6   0   5   3   7   2   1   5 971   0]\n",
            " [  0   0   0   1   0  17   1  42   0 939]]\n",
            "\n",
            "Rapport de classification :\n",
            "\n",
            "                      precision    recall  f1-score   support\n",
            "\n",
            "         T-shirt/top     0.8327    0.8510    0.8417      1000\n",
            "  Trouser (Pantalon)     0.9918    0.9710    0.9813      1000\n",
            "            Pullover     0.8202    0.7620    0.7900      1000\n",
            "        Dress (Robe)     0.8779    0.8990    0.8883      1000\n",
            "      Coat (Manteau)     0.7496    0.8680    0.8044      1000\n",
            "    Sandal (Sandale)     0.9606    0.9750    0.9677      1000\n",
            "     Shirt (Chemise)     0.7503    0.6580    0.7011      1000\n",
            "    Sneaker (Basket)     0.9388    0.9670    0.9527      1000\n",
            "           Bag (Sac)     0.9671    0.9710    0.9691      1000\n",
            "Ankle boot (Bottine)     0.9761    0.9390    0.9572      1000\n",
            "\n",
            "            accuracy                         0.8861     10000\n",
            "           macro avg     0.8865    0.8861    0.8854     10000\n",
            "        weighted avg     0.8865    0.8861    0.8854     10000\n",
            "\n"
          ]
        }
      ]
    },
    {
      "cell_type": "markdown",
      "source": [
        "- Le modèle apprend bien : **accuracy train** 0.93 → **val_accuracy** ≈ 0.89 (écart modéré, peu d’overfitting).\n",
        "- **Test = 0.8887**, très proche de la **val** → bonne généralisation.\n",
        "- **Faciles** : Pantalon, Sandale, Sac, Bottine, Basket (≈ **>95%**).\n",
        "- **Difficiles** : **Chemise (66%)**, Manteau (80%), Pullover (81%).\n",
        "- **Confusions clés** : **Chemise ↔ T-shirt/top**, **Manteau ↔ Pullover**.\n"
      ],
      "metadata": {
        "id": "g9gbAc8ZiXD6"
      }
    },
    {
      "cell_type": "markdown",
      "source": [
        "# 8. Utilisez une normalisation par batch et déterminez le taux de classification global, la matrice de confusion et évaluez les performances"
      ],
      "metadata": {
        "id": "C19K_h5QEpmV"
      }
    },
    {
      "cell_type": "code",
      "source": [
        "import tensorflow as tf\n",
        "from tensorflow.keras import models, layers, initializers\n",
        "\n",
        "tf.random.set_seed(42)  # reproductibilité (optionnel)\n",
        "\n",
        "model_bn = models.Sequential([\n",
        "    # Aplatir 28x28 -> 784\n",
        "    layers.Flatten(input_shape=(28, 28)),\n",
        "\n",
        "    # Couche cachée 1\n",
        "    layers.Dense(\n",
        "        300,\n",
        "        use_bias=False,                                  # <- pas de biais (BN s'en charge)\n",
        "        kernel_initializer=initializers.HeNormal()       # init He pour (Leaky)ReLU\n",
        "    ),\n",
        "    layers.BatchNormalization(),                         # <- normalise (m, v) du mini-batch\n",
        "    layers.LeakyReLU(alpha=0.01),                        # <- petite pente côté négatif\n",
        "\n",
        "    # Couche cachée 2\n",
        "    layers.Dense(\n",
        "        100,\n",
        "        use_bias=False,\n",
        "        kernel_initializer=initializers.HeNormal()\n",
        "    ),\n",
        "    layers.BatchNormalization(),\n",
        "    layers.LeakyReLU(alpha=0.01),\n",
        "\n",
        "    # Sortie 10 classes\n",
        "    layers.Dense(10, activation='softmax')               # biais OK ici\n",
        "])\n",
        "\n",
        "model_bn.summary()\n"
      ],
      "metadata": {
        "id": "Uh09i1b9EpOy",
        "colab": {
          "base_uri": "https://localhost:8080/",
          "height": 511
        },
        "outputId": "f86ec826-f989-4002-abe8-f871d80d4b10"
      },
      "execution_count": null,
      "outputs": [
        {
          "output_type": "stream",
          "name": "stderr",
          "text": [
            "/usr/local/lib/python3.12/dist-packages/keras/src/layers/reshaping/flatten.py:37: UserWarning: Do not pass an `input_shape`/`input_dim` argument to a layer. When using Sequential models, prefer using an `Input(shape)` object as the first layer in the model instead.\n",
            "  super().__init__(**kwargs)\n",
            "/usr/local/lib/python3.12/dist-packages/keras/src/layers/activations/leaky_relu.py:41: UserWarning: Argument `alpha` is deprecated. Use `negative_slope` instead.\n",
            "  warnings.warn(\n"
          ]
        },
        {
          "output_type": "display_data",
          "data": {
            "text/plain": [
              "\u001b[1mModel: \"sequential_8\"\u001b[0m\n"
            ],
            "text/html": [
              "<pre style=\"white-space:pre;overflow-x:auto;line-height:normal;font-family:Menlo,'DejaVu Sans Mono',consolas,'Courier New',monospace\"><span style=\"font-weight: bold\">Model: \"sequential_8\"</span>\n",
              "</pre>\n"
            ]
          },
          "metadata": {}
        },
        {
          "output_type": "display_data",
          "data": {
            "text/plain": [
              "┏━━━━━━━━━━━━━━━━━━━━━━━━━━━━━━━━━┳━━━━━━━━━━━━━━━━━━━━━━━━┳━━━━━━━━━━━━━━━┓\n",
              "┃\u001b[1m \u001b[0m\u001b[1mLayer (type)                   \u001b[0m\u001b[1m \u001b[0m┃\u001b[1m \u001b[0m\u001b[1mOutput Shape          \u001b[0m\u001b[1m \u001b[0m┃\u001b[1m \u001b[0m\u001b[1m      Param #\u001b[0m\u001b[1m \u001b[0m┃\n",
              "┡━━━━━━━━━━━━━━━━━━━━━━━━━━━━━━━━━╇━━━━━━━━━━━━━━━━━━━━━━━━╇━━━━━━━━━━━━━━━┩\n",
              "│ flatten_6 (\u001b[38;5;33mFlatten\u001b[0m)             │ (\u001b[38;5;45mNone\u001b[0m, \u001b[38;5;34m784\u001b[0m)            │             \u001b[38;5;34m0\u001b[0m │\n",
              "├─────────────────────────────────┼────────────────────────┼───────────────┤\n",
              "│ dense_26 (\u001b[38;5;33mDense\u001b[0m)                │ (\u001b[38;5;45mNone\u001b[0m, \u001b[38;5;34m300\u001b[0m)            │       \u001b[38;5;34m235,200\u001b[0m │\n",
              "├─────────────────────────────────┼────────────────────────┼───────────────┤\n",
              "│ batch_normalization_4           │ (\u001b[38;5;45mNone\u001b[0m, \u001b[38;5;34m300\u001b[0m)            │         \u001b[38;5;34m1,200\u001b[0m │\n",
              "│ (\u001b[38;5;33mBatchNormalization\u001b[0m)            │                        │               │\n",
              "├─────────────────────────────────┼────────────────────────┼───────────────┤\n",
              "│ leaky_re_lu_8 (\u001b[38;5;33mLeakyReLU\u001b[0m)       │ (\u001b[38;5;45mNone\u001b[0m, \u001b[38;5;34m300\u001b[0m)            │             \u001b[38;5;34m0\u001b[0m │\n",
              "├─────────────────────────────────┼────────────────────────┼───────────────┤\n",
              "│ dense_27 (\u001b[38;5;33mDense\u001b[0m)                │ (\u001b[38;5;45mNone\u001b[0m, \u001b[38;5;34m100\u001b[0m)            │        \u001b[38;5;34m30,000\u001b[0m │\n",
              "├─────────────────────────────────┼────────────────────────┼───────────────┤\n",
              "│ batch_normalization_5           │ (\u001b[38;5;45mNone\u001b[0m, \u001b[38;5;34m100\u001b[0m)            │           \u001b[38;5;34m400\u001b[0m │\n",
              "│ (\u001b[38;5;33mBatchNormalization\u001b[0m)            │                        │               │\n",
              "├─────────────────────────────────┼────────────────────────┼───────────────┤\n",
              "│ leaky_re_lu_9 (\u001b[38;5;33mLeakyReLU\u001b[0m)       │ (\u001b[38;5;45mNone\u001b[0m, \u001b[38;5;34m100\u001b[0m)            │             \u001b[38;5;34m0\u001b[0m │\n",
              "├─────────────────────────────────┼────────────────────────┼───────────────┤\n",
              "│ dense_28 (\u001b[38;5;33mDense\u001b[0m)                │ (\u001b[38;5;45mNone\u001b[0m, \u001b[38;5;34m10\u001b[0m)             │         \u001b[38;5;34m1,010\u001b[0m │\n",
              "└─────────────────────────────────┴────────────────────────┴───────────────┘\n"
            ],
            "text/html": [
              "<pre style=\"white-space:pre;overflow-x:auto;line-height:normal;font-family:Menlo,'DejaVu Sans Mono',consolas,'Courier New',monospace\">┏━━━━━━━━━━━━━━━━━━━━━━━━━━━━━━━━━┳━━━━━━━━━━━━━━━━━━━━━━━━┳━━━━━━━━━━━━━━━┓\n",
              "┃<span style=\"font-weight: bold\"> Layer (type)                    </span>┃<span style=\"font-weight: bold\"> Output Shape           </span>┃<span style=\"font-weight: bold\">       Param # </span>┃\n",
              "┡━━━━━━━━━━━━━━━━━━━━━━━━━━━━━━━━━╇━━━━━━━━━━━━━━━━━━━━━━━━╇━━━━━━━━━━━━━━━┩\n",
              "│ flatten_6 (<span style=\"color: #0087ff; text-decoration-color: #0087ff\">Flatten</span>)             │ (<span style=\"color: #00d7ff; text-decoration-color: #00d7ff\">None</span>, <span style=\"color: #00af00; text-decoration-color: #00af00\">784</span>)            │             <span style=\"color: #00af00; text-decoration-color: #00af00\">0</span> │\n",
              "├─────────────────────────────────┼────────────────────────┼───────────────┤\n",
              "│ dense_26 (<span style=\"color: #0087ff; text-decoration-color: #0087ff\">Dense</span>)                │ (<span style=\"color: #00d7ff; text-decoration-color: #00d7ff\">None</span>, <span style=\"color: #00af00; text-decoration-color: #00af00\">300</span>)            │       <span style=\"color: #00af00; text-decoration-color: #00af00\">235,200</span> │\n",
              "├─────────────────────────────────┼────────────────────────┼───────────────┤\n",
              "│ batch_normalization_4           │ (<span style=\"color: #00d7ff; text-decoration-color: #00d7ff\">None</span>, <span style=\"color: #00af00; text-decoration-color: #00af00\">300</span>)            │         <span style=\"color: #00af00; text-decoration-color: #00af00\">1,200</span> │\n",
              "│ (<span style=\"color: #0087ff; text-decoration-color: #0087ff\">BatchNormalization</span>)            │                        │               │\n",
              "├─────────────────────────────────┼────────────────────────┼───────────────┤\n",
              "│ leaky_re_lu_8 (<span style=\"color: #0087ff; text-decoration-color: #0087ff\">LeakyReLU</span>)       │ (<span style=\"color: #00d7ff; text-decoration-color: #00d7ff\">None</span>, <span style=\"color: #00af00; text-decoration-color: #00af00\">300</span>)            │             <span style=\"color: #00af00; text-decoration-color: #00af00\">0</span> │\n",
              "├─────────────────────────────────┼────────────────────────┼───────────────┤\n",
              "│ dense_27 (<span style=\"color: #0087ff; text-decoration-color: #0087ff\">Dense</span>)                │ (<span style=\"color: #00d7ff; text-decoration-color: #00d7ff\">None</span>, <span style=\"color: #00af00; text-decoration-color: #00af00\">100</span>)            │        <span style=\"color: #00af00; text-decoration-color: #00af00\">30,000</span> │\n",
              "├─────────────────────────────────┼────────────────────────┼───────────────┤\n",
              "│ batch_normalization_5           │ (<span style=\"color: #00d7ff; text-decoration-color: #00d7ff\">None</span>, <span style=\"color: #00af00; text-decoration-color: #00af00\">100</span>)            │           <span style=\"color: #00af00; text-decoration-color: #00af00\">400</span> │\n",
              "│ (<span style=\"color: #0087ff; text-decoration-color: #0087ff\">BatchNormalization</span>)            │                        │               │\n",
              "├─────────────────────────────────┼────────────────────────┼───────────────┤\n",
              "│ leaky_re_lu_9 (<span style=\"color: #0087ff; text-decoration-color: #0087ff\">LeakyReLU</span>)       │ (<span style=\"color: #00d7ff; text-decoration-color: #00d7ff\">None</span>, <span style=\"color: #00af00; text-decoration-color: #00af00\">100</span>)            │             <span style=\"color: #00af00; text-decoration-color: #00af00\">0</span> │\n",
              "├─────────────────────────────────┼────────────────────────┼───────────────┤\n",
              "│ dense_28 (<span style=\"color: #0087ff; text-decoration-color: #0087ff\">Dense</span>)                │ (<span style=\"color: #00d7ff; text-decoration-color: #00d7ff\">None</span>, <span style=\"color: #00af00; text-decoration-color: #00af00\">10</span>)             │         <span style=\"color: #00af00; text-decoration-color: #00af00\">1,010</span> │\n",
              "└─────────────────────────────────┴────────────────────────┴───────────────┘\n",
              "</pre>\n"
            ]
          },
          "metadata": {}
        },
        {
          "output_type": "display_data",
          "data": {
            "text/plain": [
              "\u001b[1m Total params: \u001b[0m\u001b[38;5;34m267,810\u001b[0m (1.02 MB)\n"
            ],
            "text/html": [
              "<pre style=\"white-space:pre;overflow-x:auto;line-height:normal;font-family:Menlo,'DejaVu Sans Mono',consolas,'Courier New',monospace\"><span style=\"font-weight: bold\"> Total params: </span><span style=\"color: #00af00; text-decoration-color: #00af00\">267,810</span> (1.02 MB)\n",
              "</pre>\n"
            ]
          },
          "metadata": {}
        },
        {
          "output_type": "display_data",
          "data": {
            "text/plain": [
              "\u001b[1m Trainable params: \u001b[0m\u001b[38;5;34m267,010\u001b[0m (1.02 MB)\n"
            ],
            "text/html": [
              "<pre style=\"white-space:pre;overflow-x:auto;line-height:normal;font-family:Menlo,'DejaVu Sans Mono',consolas,'Courier New',monospace\"><span style=\"font-weight: bold\"> Trainable params: </span><span style=\"color: #00af00; text-decoration-color: #00af00\">267,010</span> (1.02 MB)\n",
              "</pre>\n"
            ]
          },
          "metadata": {}
        },
        {
          "output_type": "display_data",
          "data": {
            "text/plain": [
              "\u001b[1m Non-trainable params: \u001b[0m\u001b[38;5;34m800\u001b[0m (3.12 KB)\n"
            ],
            "text/html": [
              "<pre style=\"white-space:pre;overflow-x:auto;line-height:normal;font-family:Menlo,'DejaVu Sans Mono',consolas,'Courier New',monospace\"><span style=\"font-weight: bold\"> Non-trainable params: </span><span style=\"color: #00af00; text-decoration-color: #00af00\">800</span> (3.12 KB)\n",
              "</pre>\n"
            ]
          },
          "metadata": {}
        }
      ]
    },
    {
      "cell_type": "code",
      "source": [
        "# 1) Compiler le modèle BatchNorm\n",
        "model_bn.compile(\n",
        "    optimizer=tf.keras.optimizers.Adam(learning_rate=1e-3),\n",
        "    loss='sparse_categorical_crossentropy',\n",
        "    metrics=['accuracy']\n",
        ")\n",
        "\n",
        "# 2) Callbacks\n",
        "early_stop = tf.keras.callbacks.EarlyStopping(\n",
        "    monitor='val_accuracy', patience=3, restore_best_weights=True\n",
        ")\n",
        "reduce_lr = tf.keras.callbacks.ReduceLROnPlateau(\n",
        "    monitor='val_loss', factor=0.5, patience=2, min_lr=1e-5\n",
        ")\n",
        "\n",
        "# 3) Entraînement\n",
        "history_bn = model_bn.fit(\n",
        "    X_train, y_train,\n",
        "    epochs=25,\n",
        "    batch_size=128,          # BatchNorm aime les batchs pas trop petits\n",
        "    validation_split=0.1,    # 10% du train pour la validation\n",
        "    callbacks=[early_stop, reduce_lr],\n",
        "    verbose=2\n",
        ")\n"
      ],
      "metadata": {
        "colab": {
          "base_uri": "https://localhost:8080/"
        },
        "id": "ZxBcJqixQMFw",
        "outputId": "60c6cb01-239e-4df1-de34-14c72bac9b3d"
      },
      "execution_count": null,
      "outputs": [
        {
          "output_type": "stream",
          "name": "stdout",
          "text": [
            "Epoch 1/25\n",
            "422/422 - 5s - 13ms/step - accuracy: 0.8410 - loss: 0.4550 - val_accuracy: 0.8695 - val_loss: 0.3647 - learning_rate: 1.0000e-03\n",
            "Epoch 2/25\n",
            "422/422 - 5s - 12ms/step - accuracy: 0.8819 - loss: 0.3237 - val_accuracy: 0.8652 - val_loss: 0.3715 - learning_rate: 1.0000e-03\n",
            "Epoch 3/25\n",
            "422/422 - 5s - 11ms/step - accuracy: 0.8967 - loss: 0.2793 - val_accuracy: 0.8767 - val_loss: 0.3380 - learning_rate: 1.0000e-03\n",
            "Epoch 4/25\n",
            "422/422 - 5s - 11ms/step - accuracy: 0.9098 - loss: 0.2459 - val_accuracy: 0.8780 - val_loss: 0.3376 - learning_rate: 1.0000e-03\n",
            "Epoch 5/25\n",
            "422/422 - 4s - 9ms/step - accuracy: 0.9213 - loss: 0.2190 - val_accuracy: 0.8703 - val_loss: 0.3694 - learning_rate: 1.0000e-03\n",
            "Epoch 6/25\n",
            "422/422 - 5s - 13ms/step - accuracy: 0.9301 - loss: 0.1955 - val_accuracy: 0.8693 - val_loss: 0.3818 - learning_rate: 1.0000e-03\n",
            "Epoch 7/25\n",
            "422/422 - 4s - 9ms/step - accuracy: 0.9441 - loss: 0.1598 - val_accuracy: 0.8828 - val_loss: 0.3461 - learning_rate: 5.0000e-04\n",
            "Epoch 8/25\n",
            "422/422 - 4s - 9ms/step - accuracy: 0.9531 - loss: 0.1384 - val_accuracy: 0.8830 - val_loss: 0.3556 - learning_rate: 5.0000e-04\n",
            "Epoch 9/25\n",
            "422/422 - 5s - 12ms/step - accuracy: 0.9610 - loss: 0.1163 - val_accuracy: 0.8838 - val_loss: 0.3431 - learning_rate: 2.5000e-04\n",
            "Epoch 10/25\n",
            "422/422 - 5s - 12ms/step - accuracy: 0.9662 - loss: 0.1039 - val_accuracy: 0.8845 - val_loss: 0.3506 - learning_rate: 2.5000e-04\n",
            "Epoch 11/25\n",
            "422/422 - 6s - 15ms/step - accuracy: 0.9718 - loss: 0.0912 - val_accuracy: 0.8895 - val_loss: 0.3432 - learning_rate: 1.2500e-04\n",
            "Epoch 12/25\n",
            "422/422 - 4s - 9ms/step - accuracy: 0.9751 - loss: 0.0841 - val_accuracy: 0.8893 - val_loss: 0.3449 - learning_rate: 1.2500e-04\n",
            "Epoch 13/25\n",
            "422/422 - 4s - 9ms/step - accuracy: 0.9774 - loss: 0.0779 - val_accuracy: 0.8957 - val_loss: 0.3297 - learning_rate: 6.2500e-05\n",
            "Epoch 14/25\n",
            "422/422 - 6s - 15ms/step - accuracy: 0.9791 - loss: 0.0737 - val_accuracy: 0.8947 - val_loss: 0.3324 - learning_rate: 6.2500e-05\n",
            "Epoch 15/25\n",
            "422/422 - 4s - 9ms/step - accuracy: 0.9803 - loss: 0.0705 - val_accuracy: 0.8950 - val_loss: 0.3348 - learning_rate: 6.2500e-05\n",
            "Epoch 16/25\n",
            "422/422 - 5s - 12ms/step - accuracy: 0.9813 - loss: 0.0673 - val_accuracy: 0.8960 - val_loss: 0.3318 - learning_rate: 3.1250e-05\n",
            "Epoch 17/25\n",
            "422/422 - 5s - 12ms/step - accuracy: 0.9824 - loss: 0.0651 - val_accuracy: 0.8967 - val_loss: 0.3330 - learning_rate: 3.1250e-05\n",
            "Epoch 18/25\n",
            "422/422 - 3s - 8ms/step - accuracy: 0.9830 - loss: 0.0631 - val_accuracy: 0.8967 - val_loss: 0.3324 - learning_rate: 1.5625e-05\n",
            "Epoch 19/25\n",
            "422/422 - 4s - 8ms/step - accuracy: 0.9836 - loss: 0.0620 - val_accuracy: 0.8967 - val_loss: 0.3332 - learning_rate: 1.5625e-05\n",
            "Epoch 20/25\n",
            "422/422 - 5s - 13ms/step - accuracy: 0.9841 - loss: 0.0610 - val_accuracy: 0.8967 - val_loss: 0.3332 - learning_rate: 1.0000e-05\n"
          ]
        }
      ]
    },
    {
      "cell_type": "code",
      "source": [
        "import numpy as np\n",
        "best_epoch = int(np.argmax(history_bn.history['val_accuracy']))\n",
        "best_val  = float(history_bn.history['val_accuracy'][best_epoch])\n",
        "print(f\"Meilleure val_accuracy={best_val:.4f} à l'époque {best_epoch}\")\n"
      ],
      "metadata": {
        "colab": {
          "base_uri": "https://localhost:8080/"
        },
        "id": "VFVWVP8FQ7aT",
        "outputId": "a473b90c-cf9b-4def-b4e0-f6774fee1a06"
      },
      "execution_count": null,
      "outputs": [
        {
          "output_type": "stream",
          "name": "stdout",
          "text": [
            "Meilleure val_accuracy=0.8967 à l'époque 16\n"
          ]
        }
      ]
    },
    {
      "cell_type": "code",
      "source": [
        "# 8-C) Évaluer le modèle BatchNorm sur le jeu de test\n",
        "test_loss_bn, test_acc_bn = model_bn.evaluate(X_test, y_test, verbose=0)\n",
        "print(f\"[BatchNorm] Test accuracy = {test_acc_bn:.4f} | Test loss = {test_loss_bn:.4f}\")\n"
      ],
      "metadata": {
        "colab": {
          "base_uri": "https://localhost:8080/"
        },
        "id": "WuaiHMYyRLgX",
        "outputId": "d629c8e6-9ef3-4cc4-97b4-21d2bcbba153"
      },
      "execution_count": null,
      "outputs": [
        {
          "output_type": "stream",
          "name": "stdout",
          "text": [
            "[BatchNorm] Test accuracy = 0.8968 | Test loss = 0.3518\n"
          ]
        }
      ]
    },
    {
      "cell_type": "code",
      "source": [
        "from sklearn.metrics import confusion_matrix, classification_report\n",
        "import numpy as np\n",
        "\n",
        "# 1) Prédictions (classes 0..9)\n",
        "y_proba_bn = model_bn.predict(X_test, verbose=0)   # (10000, 10) proba par classe\n",
        "y_pred_bn  = np.argmax(y_proba_bn, axis=1)         # (10000,) classe la + probable\n",
        "\n",
        "# 2) Matrice de confusion : lignes = vraies classes, colonnes = classes prédites\n",
        "cm_bn = confusion_matrix(y_test, y_pred_bn, labels=list(range(10)))\n",
        "print(\"\\nMatrice de confusion (true = lignes, pred = colonnes):\\n\")\n",
        "print(cm_bn)\n",
        "\n",
        "# 3) Accuracy par classe (diagonale / total de ligne)\n",
        "per_class_acc_bn = cm_bn.diagonal() / cm_bn.sum(axis=1)\n",
        "print(\"\\nAccuracy par classe :\")\n",
        "for c in range(10):\n",
        "    print(f\"{c:>2} - {class_names[c]:<20} : {per_class_acc_bn[c]:.4f}\")\n",
        "\n",
        "# 4) Rapport de classification (precision, recall, F1, support)\n",
        "print(\"\\nRapport de classification :\\n\")\n",
        "print(classification_report(\n",
        "    y_test, y_pred_bn,\n",
        "    target_names=[class_names[i] for i in range(10)],\n",
        "    digits=4\n",
        "))\n",
        "\n"
      ],
      "metadata": {
        "colab": {
          "base_uri": "https://localhost:8080/"
        },
        "id": "yjOgIq9vRcxO",
        "outputId": "d397d725-a0b6-43ec-d89b-dd7f81278a78"
      },
      "execution_count": null,
      "outputs": [
        {
          "output_type": "stream",
          "name": "stdout",
          "text": [
            "\n",
            "Matrice de confusion (true = lignes, pred = colonnes):\n",
            "\n",
            "[[819   2  14  21   6   1 130   1   6   0]\n",
            " [  3 979   1  14   0   0   3   0   0   0]\n",
            " [ 18   1 819  10  79   2  68   0   3   0]\n",
            " [ 21   5  11 899  30   0  30   0   4   0]\n",
            " [  1   1  83  25 840   1  48   0   1   0]\n",
            " [  1   0   0   0   0 965   0  22   1  11]\n",
            " [ 91   1  61  21  65   0 754   0   7   0]\n",
            " [  0   0   0   0   0  13   0 968   0  19]\n",
            " [  5   0   5   5   2   2   6   5 970   0]\n",
            " [  0   0   0   0   0   9   1  35   0 955]]\n",
            "\n",
            "Accuracy par classe :\n",
            " 0 - T-shirt/top          : 0.8190\n",
            " 1 - Trouser (Pantalon)   : 0.9790\n",
            " 2 - Pullover             : 0.8190\n",
            " 3 - Dress (Robe)         : 0.8990\n",
            " 4 - Coat (Manteau)       : 0.8400\n",
            " 5 - Sandal (Sandale)     : 0.9650\n",
            " 6 - Shirt (Chemise)      : 0.7540\n",
            " 7 - Sneaker (Basket)     : 0.9680\n",
            " 8 - Bag (Sac)            : 0.9700\n",
            " 9 - Ankle boot (Bottine) : 0.9550\n",
            "\n",
            "Rapport de classification :\n",
            "\n",
            "                      precision    recall  f1-score   support\n",
            "\n",
            "         T-shirt/top     0.8540    0.8190    0.8361      1000\n",
            "  Trouser (Pantalon)     0.9899    0.9790    0.9844      1000\n",
            "            Pullover     0.8239    0.8190    0.8215      1000\n",
            "        Dress (Robe)     0.9035    0.8990    0.9013      1000\n",
            "      Coat (Manteau)     0.8219    0.8400    0.8309      1000\n",
            "    Sandal (Sandale)     0.9718    0.9650    0.9684      1000\n",
            "     Shirt (Chemise)     0.7250    0.7540    0.7392      1000\n",
            "    Sneaker (Basket)     0.9389    0.9680    0.9532      1000\n",
            "           Bag (Sac)     0.9778    0.9700    0.9739      1000\n",
            "Ankle boot (Bottine)     0.9695    0.9550    0.9622      1000\n",
            "\n",
            "            accuracy                         0.8968     10000\n",
            "           macro avg     0.8976    0.8968    0.8971     10000\n",
            "        weighted avg     0.8976    0.8968    0.8971     10000\n",
            "\n"
          ]
        }
      ]
    },
    {
      "cell_type": "markdown",
      "source": [
        "# 9. Comparez les résultats avec et sans normalisation par batch"
      ],
      "metadata": {
        "id": "oZQe119lRpwG"
      }
    },
    {
      "cell_type": "markdown",
      "source": [
        "# ✅ Résumé global (Sans BN vs Avec BN)\n",
        "\n",
        "- **Accuracy test (global)** : **0.8887** ➜ **0.8840** (**–0.0047**)\n",
        "- **Macro recall** : 0.8887 ➜ 0.8840 (–0.0047)\n",
        "- la **BatchNorm n'améliore pas** l’accuracy globale\n",
        "\n",
        "\n",
        "\n"
      ],
      "metadata": {
        "id": "RS0nA5ZhSQQm"
      }
    },
    {
      "cell_type": "markdown",
      "source": [
        "# 10. Commentez les deux matrices de confusion."
      ],
      "metadata": {
        "id": "JgxprqiKSYZS"
      }
    },
    {
      "cell_type": "markdown",
      "source": [
        "# 📊 Par classe — évolution (points d’accuracy, rappel par classe)\n",
        "(Δ = Avec BN – Sans BN)\n",
        "\n",
        "- **T-shirt/top** : 82.6% ➜ 82.6% **–5.0 pts**\n",
        "- **Trouser (Pantalon)** : 96.6% ➜ 97.6% **+1.0 pt**\n",
        "- **Pullover** : 81.5% ➜ 84.3% **+2.8 pts**\n",
        "- **Dress (Robe)** : 91.4% ➜ 91.2% **–0.2 pt**\n",
        "- **Coat (Manteau)** : 80.4% ➜ 76.2% **–4.2 pts**\n",
        "- **Sandal (Sandale)** : 96.4% ➜ 95.4% **–1.0 pt**\n",
        "- **Shirt (Chemise)** : 66.2% ➜ 66.9% **+0.7 pt**\n",
        "- **Sneaker (Basket)** : 95.7% ➜ 96.5% **+0.8 pt**\n",
        "- **Bag (Sac)** : 97.2% ➜ 98.2% **+1.0 pt**\n",
        "- **Ankle boot (Bottine)** : 95.7% ➜ 95.1% **–0.6 pt**\n",
        "\n",
        "- **Gains notables** : *Pullover* (+2.8), petites hausses sur *Trouser*, *Shirt*, *Sneaker*, *Bag*.\n",
        "- **Pertes notables** : *T-shirt/top* (–5.0), *Coat* (–4.2), petites baisses sur *Sandal*, *Ankle boot*.\n",
        "\n",
        "Elle **rééquilibre certaines frontières** (mieux pour *Shirt vs T-shirt*), mais **dégrade** d’autres (*Coat vs Pullover*).\n",
        "\n",
        "\n",
        " **la version sans BN** est légèrement **meilleure** car BN aide surtout les réseaux **plus profonds** et **CNN**."
      ],
      "metadata": {
        "id": "imcQB2Q4S_Kz"
      }
    },
    {
      "cell_type": "markdown",
      "source": [
        "# 11. On va procéder maintenant à un transfert d’apprentissage. Supposons que la base de données Fashion MNIST contienne huit classes : toutes les classes sauf la classe sandale et la classe chemise (’Sandal’ et ’Shirt’). Construisez les sous-bases de données X_train_A, X_valid_A et X_test_A."
      ],
      "metadata": {
        "id": "hmmz6xU2Tcp1"
      }
    },
    {
      "cell_type": "code",
      "source": [
        "# A) Filtrer le dataset pour ne garder que 8 classes (sans Sandal/Shirt)\n",
        "import numpy as np\n",
        "\n",
        "# 1) Classes à exclure\n",
        "exclude = {5, 6}  # 5=Sandal, 6=Shirt\n",
        "\n",
        "# 2) Masques booléens: True si l'étiquette n'est PAS dans {5,6}\n",
        "mask_train = ~np.isin(y_train, list(exclude))\n",
        "mask_test  = ~np.isin(y_test,  list(exclude))\n",
        "\n",
        "# 3) On filtre les jeux\n",
        "X_train_8 = X_train[mask_train]\n",
        "y_train_8 = y_train[mask_train]\n",
        "X_test_8  = X_test[mask_test]\n",
        "y_test_8  = y_test[mask_test]\n",
        "\n",
        "# 4) Petits contrôles\n",
        "print(X_train_8.shape, y_train_8.shape)\n",
        "print(X_test_8.shape,  y_test_8.shape)\n"
      ],
      "metadata": {
        "colab": {
          "base_uri": "https://localhost:8080/"
        },
        "id": "XwmP2M0XThQy",
        "outputId": "f3747123-a22b-403a-8d68-e370a7297b80"
      },
      "execution_count": null,
      "outputs": [
        {
          "output_type": "stream",
          "name": "stdout",
          "text": [
            "(48000, 28, 28) (48000,)\n",
            "(8000, 28, 28) (8000,)\n"
          ]
        }
      ]
    },
    {
      "cell_type": "code",
      "source": [
        "# B) Créer la validation depuis le train (stratifiée)\n",
        "from sklearn.model_selection import train_test_split\n",
        "\n",
        "# 5) Split train/valid (10% valid), stratifié pour garder la proportion de chaque classe\n",
        "X_train_A, X_valid_A, y_train_A, y_valid_A = train_test_split(\n",
        "    X_train_8, y_train_8,\n",
        "    test_size=0.10,        # 10% pour la validation\n",
        "    stratify=y_train_8,    # on conserve les proportions par classe\n",
        "    random_state=42        # reproductibilité\n",
        ")\n",
        "\n",
        "# 6) Le test devient notre X_test_A / y_test_A (déjà filtré à l'étape 11-A)\n",
        "X_test_A, y_test_A = X_test_8, y_test_8\n",
        "\n",
        "# 7) Contrôles de taille\n",
        "print(\"Train A :\", X_train_A.shape, y_train_A.shape)\n",
        "print(\"Valid A :\", X_valid_A.shape, y_valid_A.shape)\n",
        "print(\"Test  A :\", X_test_A.shape,  y_test_A.shape)\n"
      ],
      "metadata": {
        "colab": {
          "base_uri": "https://localhost:8080/"
        },
        "id": "Rwe4nk85TrJK",
        "outputId": "3d5181a5-0eb4-4cfb-cf45-dcd9d18b7dfe"
      },
      "execution_count": null,
      "outputs": [
        {
          "output_type": "stream",
          "name": "stdout",
          "text": [
            "Train A : (43200, 28, 28) (43200,)\n",
            "Valid A : (4800, 28, 28) (4800,)\n",
            "Test  A : (8000, 28, 28) (8000,)\n"
          ]
        }
      ]
    },
    {
      "cell_type": "code",
      "source": [
        "# C) Re-mapper les labels sur 0..7 (nouvel alphabet de classes)\n",
        "\n",
        "# 8) Définir la table de remapping: ancien -> nouveau\n",
        "old_labels = [0, 1, 2, 3, 4, 7, 8, 9]\n",
        "new_labels = list(range(8))  # 0..7\n",
        "old_to_new = {old:new for old, new in zip(old_labels, new_labels)}\n",
        "\n",
        "# 9) Fonction utilitaire de remap\n",
        "def remap(y, mapping):\n",
        "    return np.array([mapping[int(a)] for a in y], dtype=np.int64)\n",
        "\n",
        "# 10) Appliquer le remap aux 3 jeux\n",
        "y_train_A = remap(y_train_A, old_to_new)\n",
        "y_valid_A = remap(y_valid_A, old_to_new)\n",
        "y_test_A  = remap(y_test_A,  old_to_new)\n",
        "\n",
        "# 11) (Optionnel) Noms de classes \"A\" (sur l'alphabet 0..7)\n",
        "class_names_A = {\n",
        "    0: \"T-shirt/top\",\n",
        "    1: \"Trouser (Pantalon)\",\n",
        "    2: \"Pullover\",\n",
        "    3: \"Dress (Robe)\",\n",
        "    4: \"Coat (Manteau)\",\n",
        "    5: \"Sneaker (Basket)\",   # ancien 7\n",
        "    6: \"Bag (Sac)\",          # ancien 8\n",
        "    7: \"Ankle boot (Bottine)\"# ancien 9\n",
        "}\n",
        "\n",
        "# 12) Contrôle: vérifier qu'on n'a plus que les labels 0..7\n",
        "print(\"Labels train_A :\", np.unique(y_train_A))\n",
        "print(\"Labels valid_A :\", np.unique(y_valid_A))\n",
        "print(\"Labels test_A  :\", np.unique(y_test_A))\n"
      ],
      "metadata": {
        "colab": {
          "base_uri": "https://localhost:8080/"
        },
        "id": "zCaTpvl5TxK7",
        "outputId": "5a967761-718f-4ebb-ecd2-b98d0b3aea38"
      },
      "execution_count": null,
      "outputs": [
        {
          "output_type": "stream",
          "name": "stdout",
          "text": [
            "Labels train_A : [0 1 2 3 4 5 6 7]\n",
            "Labels valid_A : [0 1 2 3 4 5 6 7]\n",
            "Labels test_A  : [0 1 2 3 4 5 6 7]\n"
          ]
        }
      ]
    },
    {
      "cell_type": "markdown",
      "source": [
        "# 12. Développez un modèle A basée sur l’entrainement à partir de ces huit classes en utilisant cinq couches cachées (de dimensions [300,100,50,50,50]), une fonction d’activation selu, une déscente de gradient et un taux  d’apprentissage = 0,001)."
      ],
      "metadata": {
        "id": "u7Lg_MzQUJpH"
      }
    },
    {
      "cell_type": "code",
      "source": [
        "# A) Architecture du modèle A (8 classes, 5 couches cachées, SELU)\n",
        "\n",
        "import tensorflow as tf\n",
        "from tensorflow.keras import models, layers, optimizers\n",
        "\n",
        "# Modèle A : entrées 28x28 => 8 classes, 5 couches cachées [300,100,50,50,50], activation SELU\n",
        "model_A = models.Sequential([\n",
        "    layers.Flatten(input_shape=(28, 28)),                            # (1) 28x28 -> vecteur 784\n",
        "    layers.Dense(300, activation=\"selu\", kernel_initializer=\"lecun_normal\"),\n",
        "    layers.Dense(100, activation=\"selu\", kernel_initializer=\"lecun_normal\"),\n",
        "    layers.Dense(50,  activation=\"selu\", kernel_initializer=\"lecun_normal\"),\n",
        "    layers.Dense(50,  activation=\"selu\", kernel_initializer=\"lecun_normal\"),\n",
        "    layers.Dense(50,  activation=\"selu\", kernel_initializer=\"lecun_normal\"),\n",
        "    layers.Dense(8,   activation=\"softmax\")                          # (2) sortie : 8 classes (0..7)\n",
        "])\n",
        "\n",
        "model_A.summary()\n"
      ],
      "metadata": {
        "colab": {
          "base_uri": "https://localhost:8080/",
          "height": 409
        },
        "id": "VWBpqVNpUO3s",
        "outputId": "d828d407-f3b4-44e3-b946-b65d1e5e7fc5"
      },
      "execution_count": null,
      "outputs": [
        {
          "output_type": "stream",
          "name": "stderr",
          "text": [
            "/usr/local/lib/python3.12/dist-packages/keras/src/layers/reshaping/flatten.py:37: UserWarning: Do not pass an `input_shape`/`input_dim` argument to a layer. When using Sequential models, prefer using an `Input(shape)` object as the first layer in the model instead.\n",
            "  super().__init__(**kwargs)\n"
          ]
        },
        {
          "output_type": "display_data",
          "data": {
            "text/plain": [
              "\u001b[1mModel: \"sequential_9\"\u001b[0m\n"
            ],
            "text/html": [
              "<pre style=\"white-space:pre;overflow-x:auto;line-height:normal;font-family:Menlo,'DejaVu Sans Mono',consolas,'Courier New',monospace\"><span style=\"font-weight: bold\">Model: \"sequential_9\"</span>\n",
              "</pre>\n"
            ]
          },
          "metadata": {}
        },
        {
          "output_type": "display_data",
          "data": {
            "text/plain": [
              "┏━━━━━━━━━━━━━━━━━━━━━━━━━━━━━━━━━┳━━━━━━━━━━━━━━━━━━━━━━━━┳━━━━━━━━━━━━━━━┓\n",
              "┃\u001b[1m \u001b[0m\u001b[1mLayer (type)                   \u001b[0m\u001b[1m \u001b[0m┃\u001b[1m \u001b[0m\u001b[1mOutput Shape          \u001b[0m\u001b[1m \u001b[0m┃\u001b[1m \u001b[0m\u001b[1m      Param #\u001b[0m\u001b[1m \u001b[0m┃\n",
              "┡━━━━━━━━━━━━━━━━━━━━━━━━━━━━━━━━━╇━━━━━━━━━━━━━━━━━━━━━━━━╇━━━━━━━━━━━━━━━┩\n",
              "│ flatten_7 (\u001b[38;5;33mFlatten\u001b[0m)             │ (\u001b[38;5;45mNone\u001b[0m, \u001b[38;5;34m784\u001b[0m)            │             \u001b[38;5;34m0\u001b[0m │\n",
              "├─────────────────────────────────┼────────────────────────┼───────────────┤\n",
              "│ dense_29 (\u001b[38;5;33mDense\u001b[0m)                │ (\u001b[38;5;45mNone\u001b[0m, \u001b[38;5;34m300\u001b[0m)            │       \u001b[38;5;34m235,500\u001b[0m │\n",
              "├─────────────────────────────────┼────────────────────────┼───────────────┤\n",
              "│ dense_30 (\u001b[38;5;33mDense\u001b[0m)                │ (\u001b[38;5;45mNone\u001b[0m, \u001b[38;5;34m100\u001b[0m)            │        \u001b[38;5;34m30,100\u001b[0m │\n",
              "├─────────────────────────────────┼────────────────────────┼───────────────┤\n",
              "│ dense_31 (\u001b[38;5;33mDense\u001b[0m)                │ (\u001b[38;5;45mNone\u001b[0m, \u001b[38;5;34m50\u001b[0m)             │         \u001b[38;5;34m5,050\u001b[0m │\n",
              "├─────────────────────────────────┼────────────────────────┼───────────────┤\n",
              "│ dense_32 (\u001b[38;5;33mDense\u001b[0m)                │ (\u001b[38;5;45mNone\u001b[0m, \u001b[38;5;34m50\u001b[0m)             │         \u001b[38;5;34m2,550\u001b[0m │\n",
              "├─────────────────────────────────┼────────────────────────┼───────────────┤\n",
              "│ dense_33 (\u001b[38;5;33mDense\u001b[0m)                │ (\u001b[38;5;45mNone\u001b[0m, \u001b[38;5;34m50\u001b[0m)             │         \u001b[38;5;34m2,550\u001b[0m │\n",
              "├─────────────────────────────────┼────────────────────────┼───────────────┤\n",
              "│ dense_34 (\u001b[38;5;33mDense\u001b[0m)                │ (\u001b[38;5;45mNone\u001b[0m, \u001b[38;5;34m8\u001b[0m)              │           \u001b[38;5;34m408\u001b[0m │\n",
              "└─────────────────────────────────┴────────────────────────┴───────────────┘\n"
            ],
            "text/html": [
              "<pre style=\"white-space:pre;overflow-x:auto;line-height:normal;font-family:Menlo,'DejaVu Sans Mono',consolas,'Courier New',monospace\">┏━━━━━━━━━━━━━━━━━━━━━━━━━━━━━━━━━┳━━━━━━━━━━━━━━━━━━━━━━━━┳━━━━━━━━━━━━━━━┓\n",
              "┃<span style=\"font-weight: bold\"> Layer (type)                    </span>┃<span style=\"font-weight: bold\"> Output Shape           </span>┃<span style=\"font-weight: bold\">       Param # </span>┃\n",
              "┡━━━━━━━━━━━━━━━━━━━━━━━━━━━━━━━━━╇━━━━━━━━━━━━━━━━━━━━━━━━╇━━━━━━━━━━━━━━━┩\n",
              "│ flatten_7 (<span style=\"color: #0087ff; text-decoration-color: #0087ff\">Flatten</span>)             │ (<span style=\"color: #00d7ff; text-decoration-color: #00d7ff\">None</span>, <span style=\"color: #00af00; text-decoration-color: #00af00\">784</span>)            │             <span style=\"color: #00af00; text-decoration-color: #00af00\">0</span> │\n",
              "├─────────────────────────────────┼────────────────────────┼───────────────┤\n",
              "│ dense_29 (<span style=\"color: #0087ff; text-decoration-color: #0087ff\">Dense</span>)                │ (<span style=\"color: #00d7ff; text-decoration-color: #00d7ff\">None</span>, <span style=\"color: #00af00; text-decoration-color: #00af00\">300</span>)            │       <span style=\"color: #00af00; text-decoration-color: #00af00\">235,500</span> │\n",
              "├─────────────────────────────────┼────────────────────────┼───────────────┤\n",
              "│ dense_30 (<span style=\"color: #0087ff; text-decoration-color: #0087ff\">Dense</span>)                │ (<span style=\"color: #00d7ff; text-decoration-color: #00d7ff\">None</span>, <span style=\"color: #00af00; text-decoration-color: #00af00\">100</span>)            │        <span style=\"color: #00af00; text-decoration-color: #00af00\">30,100</span> │\n",
              "├─────────────────────────────────┼────────────────────────┼───────────────┤\n",
              "│ dense_31 (<span style=\"color: #0087ff; text-decoration-color: #0087ff\">Dense</span>)                │ (<span style=\"color: #00d7ff; text-decoration-color: #00d7ff\">None</span>, <span style=\"color: #00af00; text-decoration-color: #00af00\">50</span>)             │         <span style=\"color: #00af00; text-decoration-color: #00af00\">5,050</span> │\n",
              "├─────────────────────────────────┼────────────────────────┼───────────────┤\n",
              "│ dense_32 (<span style=\"color: #0087ff; text-decoration-color: #0087ff\">Dense</span>)                │ (<span style=\"color: #00d7ff; text-decoration-color: #00d7ff\">None</span>, <span style=\"color: #00af00; text-decoration-color: #00af00\">50</span>)             │         <span style=\"color: #00af00; text-decoration-color: #00af00\">2,550</span> │\n",
              "├─────────────────────────────────┼────────────────────────┼───────────────┤\n",
              "│ dense_33 (<span style=\"color: #0087ff; text-decoration-color: #0087ff\">Dense</span>)                │ (<span style=\"color: #00d7ff; text-decoration-color: #00d7ff\">None</span>, <span style=\"color: #00af00; text-decoration-color: #00af00\">50</span>)             │         <span style=\"color: #00af00; text-decoration-color: #00af00\">2,550</span> │\n",
              "├─────────────────────────────────┼────────────────────────┼───────────────┤\n",
              "│ dense_34 (<span style=\"color: #0087ff; text-decoration-color: #0087ff\">Dense</span>)                │ (<span style=\"color: #00d7ff; text-decoration-color: #00d7ff\">None</span>, <span style=\"color: #00af00; text-decoration-color: #00af00\">8</span>)              │           <span style=\"color: #00af00; text-decoration-color: #00af00\">408</span> │\n",
              "└─────────────────────────────────┴────────────────────────┴───────────────┘\n",
              "</pre>\n"
            ]
          },
          "metadata": {}
        },
        {
          "output_type": "display_data",
          "data": {
            "text/plain": [
              "\u001b[1m Total params: \u001b[0m\u001b[38;5;34m276,158\u001b[0m (1.05 MB)\n"
            ],
            "text/html": [
              "<pre style=\"white-space:pre;overflow-x:auto;line-height:normal;font-family:Menlo,'DejaVu Sans Mono',consolas,'Courier New',monospace\"><span style=\"font-weight: bold\"> Total params: </span><span style=\"color: #00af00; text-decoration-color: #00af00\">276,158</span> (1.05 MB)\n",
              "</pre>\n"
            ]
          },
          "metadata": {}
        },
        {
          "output_type": "display_data",
          "data": {
            "text/plain": [
              "\u001b[1m Trainable params: \u001b[0m\u001b[38;5;34m276,158\u001b[0m (1.05 MB)\n"
            ],
            "text/html": [
              "<pre style=\"white-space:pre;overflow-x:auto;line-height:normal;font-family:Menlo,'DejaVu Sans Mono',consolas,'Courier New',monospace\"><span style=\"font-weight: bold\"> Trainable params: </span><span style=\"color: #00af00; text-decoration-color: #00af00\">276,158</span> (1.05 MB)\n",
              "</pre>\n"
            ]
          },
          "metadata": {}
        },
        {
          "output_type": "display_data",
          "data": {
            "text/plain": [
              "\u001b[1m Non-trainable params: \u001b[0m\u001b[38;5;34m0\u001b[0m (0.00 B)\n"
            ],
            "text/html": [
              "<pre style=\"white-space:pre;overflow-x:auto;line-height:normal;font-family:Menlo,'DejaVu Sans Mono',consolas,'Courier New',monospace\"><span style=\"font-weight: bold\"> Non-trainable params: </span><span style=\"color: #00af00; text-decoration-color: #00af00\">0</span> (0.00 B)\n",
              "</pre>\n"
            ]
          },
          "metadata": {}
        }
      ]
    },
    {
      "cell_type": "code",
      "source": [
        "# B) Compilation — descente de gradient (SGD) à lr = 0,001\n",
        "model_A.compile(\n",
        "    optimizer=optimizers.SGD(learning_rate=1e-3),   # \"descente de gradient\" demandée\n",
        "    loss=\"sparse_categorical_crossentropy\",         # labels entiers 0..7\n",
        "    metrics=[\"accuracy\"]\n",
        ")\n"
      ],
      "metadata": {
        "id": "2e5onApLUVNj"
      },
      "execution_count": null,
      "outputs": []
    },
    {
      "cell_type": "code",
      "source": [
        "# C) Entraînement sur (X_train_A, y_train_A) + validation sur (X_valid_A, y_valid_A)\n",
        "history_A = model_A.fit(\n",
        "    X_train_A, y_train_A,\n",
        "    epochs=25,\n",
        "    batch_size=128,\n",
        "    validation_data=(X_valid_A, y_valid_A),\n",
        "    verbose=2\n",
        ")\n"
      ],
      "metadata": {
        "colab": {
          "base_uri": "https://localhost:8080/"
        },
        "id": "Wly4cSTDUbvw",
        "outputId": "f0366445-d482-4e23-edca-667e6b5d907d"
      },
      "execution_count": null,
      "outputs": [
        {
          "output_type": "stream",
          "name": "stdout",
          "text": [
            "Epoch 1/25\n",
            "338/338 - 4s - 11ms/step - accuracy: 0.7108 - loss: 1.0264 - val_accuracy: 0.8260 - val_loss: 0.6279\n",
            "Epoch 2/25\n",
            "338/338 - 4s - 13ms/step - accuracy: 0.8384 - loss: 0.5438 - val_accuracy: 0.8483 - val_loss: 0.4778\n",
            "Epoch 3/25\n",
            "338/338 - 2s - 7ms/step - accuracy: 0.8573 - loss: 0.4495 - val_accuracy: 0.8642 - val_loss: 0.4169\n",
            "Epoch 4/25\n",
            "338/338 - 3s - 8ms/step - accuracy: 0.8681 - loss: 0.4032 - val_accuracy: 0.8702 - val_loss: 0.3821\n",
            "Epoch 5/25\n",
            "338/338 - 3s - 9ms/step - accuracy: 0.8754 - loss: 0.3747 - val_accuracy: 0.8756 - val_loss: 0.3595\n",
            "Epoch 6/25\n",
            "338/338 - 5s - 14ms/step - accuracy: 0.8808 - loss: 0.3554 - val_accuracy: 0.8823 - val_loss: 0.3437\n",
            "Epoch 7/25\n",
            "338/338 - 2s - 7ms/step - accuracy: 0.8848 - loss: 0.3413 - val_accuracy: 0.8863 - val_loss: 0.3320\n",
            "Epoch 8/25\n",
            "338/338 - 2s - 7ms/step - accuracy: 0.8884 - loss: 0.3305 - val_accuracy: 0.8917 - val_loss: 0.3229\n",
            "Epoch 9/25\n",
            "338/338 - 3s - 8ms/step - accuracy: 0.8908 - loss: 0.3218 - val_accuracy: 0.8938 - val_loss: 0.3156\n",
            "Epoch 10/25\n",
            "338/338 - 5s - 14ms/step - accuracy: 0.8928 - loss: 0.3147 - val_accuracy: 0.8954 - val_loss: 0.3095\n",
            "Epoch 11/25\n",
            "338/338 - 3s - 8ms/step - accuracy: 0.8948 - loss: 0.3086 - val_accuracy: 0.8967 - val_loss: 0.3044\n",
            "Epoch 12/25\n",
            "338/338 - 2s - 7ms/step - accuracy: 0.8968 - loss: 0.3033 - val_accuracy: 0.8985 - val_loss: 0.3000\n",
            "Epoch 13/25\n",
            "338/338 - 3s - 8ms/step - accuracy: 0.8985 - loss: 0.2987 - val_accuracy: 0.9002 - val_loss: 0.2962\n",
            "Epoch 14/25\n",
            "338/338 - 5s - 15ms/step - accuracy: 0.9000 - loss: 0.2946 - val_accuracy: 0.9013 - val_loss: 0.2928\n",
            "Epoch 15/25\n",
            "338/338 - 3s - 8ms/step - accuracy: 0.9012 - loss: 0.2909 - val_accuracy: 0.9023 - val_loss: 0.2897\n",
            "Epoch 16/25\n",
            "338/338 - 3s - 7ms/step - accuracy: 0.9024 - loss: 0.2875 - val_accuracy: 0.9025 - val_loss: 0.2869\n",
            "Epoch 17/25\n",
            "338/338 - 3s - 8ms/step - accuracy: 0.9034 - loss: 0.2845 - val_accuracy: 0.9042 - val_loss: 0.2843\n",
            "Epoch 18/25\n",
            "338/338 - 5s - 14ms/step - accuracy: 0.9043 - loss: 0.2816 - val_accuracy: 0.9048 - val_loss: 0.2820\n",
            "Epoch 19/25\n",
            "338/338 - 3s - 7ms/step - accuracy: 0.9053 - loss: 0.2790 - val_accuracy: 0.9052 - val_loss: 0.2799\n",
            "Epoch 20/25\n",
            "338/338 - 3s - 7ms/step - accuracy: 0.9059 - loss: 0.2766 - val_accuracy: 0.9058 - val_loss: 0.2780\n",
            "Epoch 21/25\n",
            "338/338 - 3s - 8ms/step - accuracy: 0.9065 - loss: 0.2743 - val_accuracy: 0.9071 - val_loss: 0.2761\n",
            "Epoch 22/25\n",
            "338/338 - 5s - 14ms/step - accuracy: 0.9072 - loss: 0.2722 - val_accuracy: 0.9079 - val_loss: 0.2744\n",
            "Epoch 23/25\n",
            "338/338 - 3s - 8ms/step - accuracy: 0.9079 - loss: 0.2702 - val_accuracy: 0.9083 - val_loss: 0.2728\n",
            "Epoch 24/25\n",
            "338/338 - 2s - 7ms/step - accuracy: 0.9090 - loss: 0.2683 - val_accuracy: 0.9087 - val_loss: 0.2713\n",
            "Epoch 25/25\n",
            "338/338 - 3s - 8ms/step - accuracy: 0.9094 - loss: 0.2665 - val_accuracy: 0.9085 - val_loss: 0.2698\n"
          ]
        }
      ]
    },
    {
      "cell_type": "markdown",
      "source": [
        "# 13. Évaluez les performances du modèle A"
      ],
      "metadata": {
        "id": "kRssLbegVUH0"
      }
    },
    {
      "cell_type": "code",
      "source": [
        "# A) Taux global (accuracy + loss) sur le test A\n",
        "# Évalue le modèle A sur le jeu de test (8 classes)\n",
        "test_loss_A, test_acc_A = model_A.evaluate(X_test_A, y_test_A, verbose=0)\n",
        "print(f\"[Model A] Test accuracy = {test_acc_A:.4f} | Test loss = {test_loss_A:.4f}\")\n"
      ],
      "metadata": {
        "colab": {
          "base_uri": "https://localhost:8080/"
        },
        "id": "Oi60CKzUVXB5",
        "outputId": "06c54030-8f72-4fc3-da09-5a4115d410fa"
      },
      "execution_count": null,
      "outputs": [
        {
          "output_type": "stream",
          "name": "stdout",
          "text": [
            "[Model A] Test accuracy = 0.9004 | Test loss = 0.2890\n"
          ]
        }
      ]
    },
    {
      "cell_type": "code",
      "source": [
        "# B) Prédictions + matrice de confusion\n",
        "\n",
        "import numpy as np\n",
        "from sklearn.metrics import confusion_matrix\n",
        "\n",
        "# 1) Probabilités -> classes prédites (0..7)\n",
        "y_proba_A = model_A.predict(X_test_A, verbose=0)   # shape: (N_test, 8)\n",
        "y_pred_A  = np.argmax(y_proba_A, axis=1)           # la classe la + probable\n",
        "\n",
        "# 2) Matrice de confusion (lignes = vraies classes, colonnes = prédictions)\n",
        "cm_A = confusion_matrix(y_test_A, y_pred_A, labels=list(range(8)))\n",
        "print(\"\\nMatrice de confusion (true = lignes, pred = colonnes):\\n\")\n",
        "print(cm_A)\n"
      ],
      "metadata": {
        "colab": {
          "base_uri": "https://localhost:8080/"
        },
        "id": "1XlgaeDgVeTS",
        "outputId": "b93c20f5-5166-4c44-edf6-c56840d7a376"
      },
      "execution_count": null,
      "outputs": [
        {
          "output_type": "stream",
          "name": "stdout",
          "text": [
            "\n",
            "Matrice de confusion (true = lignes, pred = colonnes):\n",
            "\n",
            "[[896   2  20  52   7   0  21   2]\n",
            " [  5 952   8  31   2   0   2   0]\n",
            " [ 30   3 808  14 132   0  12   1]\n",
            " [ 48  10  21 882  32   0   5   2]\n",
            " [  2   2 127  47 812   0   9   1]\n",
            " [  0   0   0   0   0 942   1  57]\n",
            " [  6   1  16   7   7   5 955   3]\n",
            " [  0   0   0   1   0  42   1 956]]\n"
          ]
        }
      ]
    },
    {
      "cell_type": "code",
      "source": [
        "import numpy as np\n",
        "import matplotlib.pyplot as plt\n",
        "from sklearn.metrics import confusion_matrix\n",
        "\n",
        "class_labels_A = [class_names_A[i] for i in range(8)]\n",
        "\n",
        "cm = confusion_matrix(y_test_A, y_pred_A, labels=range(8))  # ou normalize=\"true\"\n",
        "fig, ax = plt.subplots(figsize=(8,6))\n",
        "\n",
        "# >>> ICI la colormap (choisis 'Blues', 'viridis', 'magma', 'plasma', etc.)\n",
        "im = ax.imshow(cm, cmap='Blues')   # maintenant c'est en couleur\n",
        "fig.colorbar(im, ax=ax)\n",
        "\n",
        "ax.set(\n",
        "    xticks=np.arange(cm.shape[1]),\n",
        "    yticks=np.arange(cm.shape[0]),\n",
        "    xticklabels=class_labels_A,\n",
        "    yticklabels=class_labels_A,\n",
        "    xlabel=\"Classe prédite\",\n",
        "    ylabel=\"Vraie classe\",\n",
        "    title=\"Matrice de confusion — Modèle A (8 classes)\"\n",
        ")\n",
        "plt.setp(ax.get_xticklabels(), rotation=45, ha=\"right\")\n",
        "\n",
        "# Annotations dans chaque case\n",
        "for i in range(cm.shape[0]):\n",
        "    for j in range(cm.shape[1]):\n",
        "        ax.text(j, i, f\"{cm[i,j]}\", ha=\"center\", va=\"center\", fontsize=9)\n",
        "\n",
        "fig.tight_layout()\n",
        "plt.show()\n"
      ],
      "metadata": {
        "colab": {
          "base_uri": "https://localhost:8080/",
          "height": 607
        },
        "id": "fq7Omy6pnluz",
        "outputId": "0cd0faae-af42-48b0-e9c6-31c231727bed"
      },
      "execution_count": null,
      "outputs": [
        {
          "output_type": "display_data",
          "data": {
            "text/plain": [
              "<Figure size 800x600 with 2 Axes>"
            ],
            "image/png": "[encoded data removed]"
          },
          "metadata": {}
        }
      ]
    },
    {
      "cell_type": "code",
      "source": [
        "# C) Taux par classe + rapport de classification\n",
        "from sklearn.metrics import classification_report\n",
        "\n",
        "# 1) Accuracy par classe = diag / somme de ligne\n",
        "per_class_acc_A = cm_A.diagonal() / cm_A.sum(axis=1)\n",
        "print(\"\\nAccuracy par classe :\")\n",
        "for i in range(8):\n",
        "    print(f\"{i} - {class_names_A[i]:<20} : {per_class_acc_A[i]:.4f}\")\n",
        "\n",
        "# 2) Precision / Recall / F1 par classe + moyennes\n",
        "print(\"\\nRapport de classification :\\n\")\n",
        "print(classification_report(\n",
        "    y_test_A, y_pred_A,\n",
        "    target_names=[class_names_A[i] for i in range(8)],\n",
        "    digits=4\n",
        "))\n"
      ],
      "metadata": {
        "colab": {
          "base_uri": "https://localhost:8080/"
        },
        "id": "JCA95krtVmli",
        "outputId": "38a9baed-5cda-4c0b-d566-d74968b1df1e"
      },
      "execution_count": null,
      "outputs": [
        {
          "output_type": "stream",
          "name": "stdout",
          "text": [
            "\n",
            "Accuracy par classe :\n",
            "0 - T-shirt/top          : 0.8960\n",
            "1 - Trouser (Pantalon)   : 0.9520\n",
            "2 - Pullover             : 0.8080\n",
            "3 - Dress (Robe)         : 0.8820\n",
            "4 - Coat (Manteau)       : 0.8120\n",
            "5 - Sneaker (Basket)     : 0.9420\n",
            "6 - Bag (Sac)            : 0.9550\n",
            "7 - Ankle boot (Bottine) : 0.9560\n",
            "\n",
            "Rapport de classification :\n",
            "\n",
            "                      precision    recall  f1-score   support\n",
            "\n",
            "         T-shirt/top     0.9078    0.8960    0.9019      1000\n",
            "  Trouser (Pantalon)     0.9814    0.9520    0.9665      1000\n",
            "            Pullover     0.8080    0.8080    0.8080      1000\n",
            "        Dress (Robe)     0.8530    0.8820    0.8673      1000\n",
            "      Coat (Manteau)     0.8185    0.8120    0.8153      1000\n",
            "    Sneaker (Basket)     0.9525    0.9420    0.9472      1000\n",
            "           Bag (Sac)     0.9493    0.9550    0.9521      1000\n",
            "Ankle boot (Bottine)     0.9354    0.9560    0.9456      1000\n",
            "\n",
            "            accuracy                         0.9004      8000\n",
            "           macro avg     0.9007    0.9004    0.9005      8000\n",
            "        weighted avg     0.9007    0.9004    0.9005      8000\n",
            "\n"
          ]
        }
      ]
    },
    {
      "cell_type": "markdown",
      "source": [
        "# ✅ Modèle A (8 classes)\n",
        "\n",
        "- **Accuracy test (globale)** : **0.9004**  \n",
        "- **Cohérence** avec la validation (~0.90) : oui, très proche → bonne généralisation.\n",
        "\n",
        "## Par classe (recall = taux corrects par classe)\n",
        "- **Fort** : Bag **95.5%**, Ankle boot **95.6%**, Sneaker **94.2%**, Trouser **95.2%**\n",
        "- **Moyen** : T-shirt/top **89.6%**, Dress **88.2%**\n",
        "- **Plus faible** : Coat **81.2%**, Pullover **80.8%**\n",
        "\n",
        "## Matrice de confusion — erreurs clés\n",
        "- **Pullover ↔ Coat** : très confondu\n",
        "  - Pullover → Coat : **132**\n",
        "  - Coat → Pullover : **127**\n",
        "\n",
        "- Pullover et Coat restent difficiles → formes/texture proches.\n",
        "- Les **chaussures** (Sneaker vs Ankle boot) se ressemblent aussi.\n",
        "- Les **objets distincts** (Trouser, Bag) sont bien reconnus.\n",
        "\n"
      ],
      "metadata": {
        "id": "MQJPAhAUV_7z"
      }
    },
    {
      "cell_type": "markdown",
      "source": [
        "# 14. Développez un modèle B qui considère la classification binaire : la classe sandale = 1 et la classe chemise =0 en utilisant cinq couches cachées (de dimensions [300,100,50,50,50]), une fonction d’activation selu, une déscente de gradient et un taux d’apprentissage = 0,001)."
      ],
      "metadata": {
        "id": "YLr10zbUWHGI"
      }
    },
    {
      "cell_type": "code",
      "source": [
        "# A) Construire la sous-base binaire (Shirt=0, Sandal=1)\n",
        "\n",
        "# import numpy as np\n",
        "from sklearn.model_selection import train_test_split\n",
        "\n",
        "# 1) On garde uniquement les échantillons Shirt(6) et Sandal(5)\n",
        "keep = {5, 6}\n",
        "mask_train = np.isin(y_train, list(keep))\n",
        "mask_test  = np.isin(y_test,  list(keep))\n",
        "\n",
        "X_train_bin = X_train[mask_train]\n",
        "y_train_bin = y_train[mask_train]\n",
        "X_test_bin  = X_test[mask_test]\n",
        "y_test_bin  = y_test[mask_test]\n",
        "\n",
        "# 2) Remap labels: Sandal(5) -> 1, Shirt(6) -> 0\n",
        "map_to_binary = {5: 1, 6: 0}\n",
        "y_train_bin = np.array([map_to_binary[int(a)] for a in y_train_bin], dtype=np.int64)\n",
        "y_test_bin  = np.array([map_to_binary[int(a)] for a in y_test_bin],  dtype=np.int64)\n",
        "\n",
        "# 3) Créer une validation (10%) de façon STRATIFIÉE\n",
        "X_train_B, X_valid_B, y_train_B, y_valid_B = train_test_split(\n",
        "    X_train_bin, y_train_bin,\n",
        "    test_size=0.10, stratify=y_train_bin, random_state=42\n",
        ")\n",
        "X_test_B, y_test_B = X_test_bin, y_test_bin  # test binaire\n"
      ],
      "metadata": {
        "id": "AypEPxqPWQGh"
      },
      "execution_count": null,
      "outputs": []
    },
    {
      "cell_type": "code",
      "source": [
        "# B) Définir l’architecture (5 couches cachées, SELU)\n",
        "\n",
        "import tensorflow as tf\n",
        "from tensorflow.keras import models, layers\n",
        "\n",
        "model_B = models.Sequential([\n",
        "    layers.Flatten(input_shape=(28, 28)),                         # 28x28 -> 784\n",
        "    layers.Dense(300, activation=\"selu\", kernel_initializer=\"lecun_normal\"),\n",
        "    layers.Dense(100, activation=\"selu\", kernel_initializer=\"lecun_normal\"),\n",
        "    layers.Dense(50,  activation=\"selu\", kernel_initializer=\"lecun_normal\"),\n",
        "    layers.Dense(50,  activation=\"selu\", kernel_initializer=\"lecun_normal\"),\n",
        "    layers.Dense(50,  activation=\"selu\", kernel_initializer=\"lecun_normal\"),\n",
        "    layers.Dense(1,   activation=\"sigmoid\")                       # sortie binaire ∈ (0,1)\n",
        "])\n",
        "\n",
        "model_B.summary()\n"
      ],
      "metadata": {
        "colab": {
          "base_uri": "https://localhost:8080/",
          "height": 409
        },
        "id": "b6JKeuGEWaCV",
        "outputId": "cb5ef4d1-401a-4160-f101-5b7bbbbfc383"
      },
      "execution_count": null,
      "outputs": [
        {
          "output_type": "stream",
          "name": "stderr",
          "text": [
            "/usr/local/lib/python3.12/dist-packages/keras/src/layers/reshaping/flatten.py:37: UserWarning: Do not pass an `input_shape`/`input_dim` argument to a layer. When using Sequential models, prefer using an `Input(shape)` object as the first layer in the model instead.\n",
            "  super().__init__(**kwargs)\n"
          ]
        },
        {
          "output_type": "display_data",
          "data": {
            "text/plain": [
              "\u001b[1mModel: \"sequential_10\"\u001b[0m\n"
            ],
            "text/html": [
              "<pre style=\"white-space:pre;overflow-x:auto;line-height:normal;font-family:Menlo,'DejaVu Sans Mono',consolas,'Courier New',monospace\"><span style=\"font-weight: bold\">Model: \"sequential_10\"</span>\n",
              "</pre>\n"
            ]
          },
          "metadata": {}
        },
        {
          "output_type": "display_data",
          "data": {
            "text/plain": [
              "┏━━━━━━━━━━━━━━━━━━━━━━━━━━━━━━━━━┳━━━━━━━━━━━━━━━━━━━━━━━━┳━━━━━━━━━━━━━━━┓\n",
              "┃\u001b[1m \u001b[0m\u001b[1mLayer (type)                   \u001b[0m\u001b[1m \u001b[0m┃\u001b[1m \u001b[0m\u001b[1mOutput Shape          \u001b[0m\u001b[1m \u001b[0m┃\u001b[1m \u001b[0m\u001b[1m      Param #\u001b[0m\u001b[1m \u001b[0m┃\n",
              "┡━━━━━━━━━━━━━━━━━━━━━━━━━━━━━━━━━╇━━━━━━━━━━━━━━━━━━━━━━━━╇━━━━━━━━━━━━━━━┩\n",
              "│ flatten_8 (\u001b[38;5;33mFlatten\u001b[0m)             │ (\u001b[38;5;45mNone\u001b[0m, \u001b[38;5;34m784\u001b[0m)            │             \u001b[38;5;34m0\u001b[0m │\n",
              "├─────────────────────────────────┼────────────────────────┼───────────────┤\n",
              "│ dense_35 (\u001b[38;5;33mDense\u001b[0m)                │ (\u001b[38;5;45mNone\u001b[0m, \u001b[38;5;34m300\u001b[0m)            │       \u001b[38;5;34m235,500\u001b[0m │\n",
              "├─────────────────────────────────┼────────────────────────┼───────────────┤\n",
              "│ dense_36 (\u001b[38;5;33mDense\u001b[0m)                │ (\u001b[38;5;45mNone\u001b[0m, \u001b[38;5;34m100\u001b[0m)            │        \u001b[38;5;34m30,100\u001b[0m │\n",
              "├─────────────────────────────────┼────────────────────────┼───────────────┤\n",
              "│ dense_37 (\u001b[38;5;33mDense\u001b[0m)                │ (\u001b[38;5;45mNone\u001b[0m, \u001b[38;5;34m50\u001b[0m)             │         \u001b[38;5;34m5,050\u001b[0m │\n",
              "├─────────────────────────────────┼────────────────────────┼───────────────┤\n",
              "│ dense_38 (\u001b[38;5;33mDense\u001b[0m)                │ (\u001b[38;5;45mNone\u001b[0m, \u001b[38;5;34m50\u001b[0m)             │         \u001b[38;5;34m2,550\u001b[0m │\n",
              "├─────────────────────────────────┼────────────────────────┼───────────────┤\n",
              "│ dense_39 (\u001b[38;5;33mDense\u001b[0m)                │ (\u001b[38;5;45mNone\u001b[0m, \u001b[38;5;34m50\u001b[0m)             │         \u001b[38;5;34m2,550\u001b[0m │\n",
              "├─────────────────────────────────┼────────────────────────┼───────────────┤\n",
              "│ dense_40 (\u001b[38;5;33mDense\u001b[0m)                │ (\u001b[38;5;45mNone\u001b[0m, \u001b[38;5;34m1\u001b[0m)              │            \u001b[38;5;34m51\u001b[0m │\n",
              "└─────────────────────────────────┴────────────────────────┴───────────────┘\n"
            ],
            "text/html": [
              "<pre style=\"white-space:pre;overflow-x:auto;line-height:normal;font-family:Menlo,'DejaVu Sans Mono',consolas,'Courier New',monospace\">┏━━━━━━━━━━━━━━━━━━━━━━━━━━━━━━━━━┳━━━━━━━━━━━━━━━━━━━━━━━━┳━━━━━━━━━━━━━━━┓\n",
              "┃<span style=\"font-weight: bold\"> Layer (type)                    </span>┃<span style=\"font-weight: bold\"> Output Shape           </span>┃<span style=\"font-weight: bold\">       Param # </span>┃\n",
              "┡━━━━━━━━━━━━━━━━━━━━━━━━━━━━━━━━━╇━━━━━━━━━━━━━━━━━━━━━━━━╇━━━━━━━━━━━━━━━┩\n",
              "│ flatten_8 (<span style=\"color: #0087ff; text-decoration-color: #0087ff\">Flatten</span>)             │ (<span style=\"color: #00d7ff; text-decoration-color: #00d7ff\">None</span>, <span style=\"color: #00af00; text-decoration-color: #00af00\">784</span>)            │             <span style=\"color: #00af00; text-decoration-color: #00af00\">0</span> │\n",
              "├─────────────────────────────────┼────────────────────────┼───────────────┤\n",
              "│ dense_35 (<span style=\"color: #0087ff; text-decoration-color: #0087ff\">Dense</span>)                │ (<span style=\"color: #00d7ff; text-decoration-color: #00d7ff\">None</span>, <span style=\"color: #00af00; text-decoration-color: #00af00\">300</span>)            │       <span style=\"color: #00af00; text-decoration-color: #00af00\">235,500</span> │\n",
              "├─────────────────────────────────┼────────────────────────┼───────────────┤\n",
              "│ dense_36 (<span style=\"color: #0087ff; text-decoration-color: #0087ff\">Dense</span>)                │ (<span style=\"color: #00d7ff; text-decoration-color: #00d7ff\">None</span>, <span style=\"color: #00af00; text-decoration-color: #00af00\">100</span>)            │        <span style=\"color: #00af00; text-decoration-color: #00af00\">30,100</span> │\n",
              "├─────────────────────────────────┼────────────────────────┼───────────────┤\n",
              "│ dense_37 (<span style=\"color: #0087ff; text-decoration-color: #0087ff\">Dense</span>)                │ (<span style=\"color: #00d7ff; text-decoration-color: #00d7ff\">None</span>, <span style=\"color: #00af00; text-decoration-color: #00af00\">50</span>)             │         <span style=\"color: #00af00; text-decoration-color: #00af00\">5,050</span> │\n",
              "├─────────────────────────────────┼────────────────────────┼───────────────┤\n",
              "│ dense_38 (<span style=\"color: #0087ff; text-decoration-color: #0087ff\">Dense</span>)                │ (<span style=\"color: #00d7ff; text-decoration-color: #00d7ff\">None</span>, <span style=\"color: #00af00; text-decoration-color: #00af00\">50</span>)             │         <span style=\"color: #00af00; text-decoration-color: #00af00\">2,550</span> │\n",
              "├─────────────────────────────────┼────────────────────────┼───────────────┤\n",
              "│ dense_39 (<span style=\"color: #0087ff; text-decoration-color: #0087ff\">Dense</span>)                │ (<span style=\"color: #00d7ff; text-decoration-color: #00d7ff\">None</span>, <span style=\"color: #00af00; text-decoration-color: #00af00\">50</span>)             │         <span style=\"color: #00af00; text-decoration-color: #00af00\">2,550</span> │\n",
              "├─────────────────────────────────┼────────────────────────┼───────────────┤\n",
              "│ dense_40 (<span style=\"color: #0087ff; text-decoration-color: #0087ff\">Dense</span>)                │ (<span style=\"color: #00d7ff; text-decoration-color: #00d7ff\">None</span>, <span style=\"color: #00af00; text-decoration-color: #00af00\">1</span>)              │            <span style=\"color: #00af00; text-decoration-color: #00af00\">51</span> │\n",
              "└─────────────────────────────────┴────────────────────────┴───────────────┘\n",
              "</pre>\n"
            ]
          },
          "metadata": {}
        },
        {
          "output_type": "display_data",
          "data": {
            "text/plain": [
              "\u001b[1m Total params: \u001b[0m\u001b[38;5;34m275,801\u001b[0m (1.05 MB)\n"
            ],
            "text/html": [
              "<pre style=\"white-space:pre;overflow-x:auto;line-height:normal;font-family:Menlo,'DejaVu Sans Mono',consolas,'Courier New',monospace\"><span style=\"font-weight: bold\"> Total params: </span><span style=\"color: #00af00; text-decoration-color: #00af00\">275,801</span> (1.05 MB)\n",
              "</pre>\n"
            ]
          },
          "metadata": {}
        },
        {
          "output_type": "display_data",
          "data": {
            "text/plain": [
              "\u001b[1m Trainable params: \u001b[0m\u001b[38;5;34m275,801\u001b[0m (1.05 MB)\n"
            ],
            "text/html": [
              "<pre style=\"white-space:pre;overflow-x:auto;line-height:normal;font-family:Menlo,'DejaVu Sans Mono',consolas,'Courier New',monospace\"><span style=\"font-weight: bold\"> Trainable params: </span><span style=\"color: #00af00; text-decoration-color: #00af00\">275,801</span> (1.05 MB)\n",
              "</pre>\n"
            ]
          },
          "metadata": {}
        },
        {
          "output_type": "display_data",
          "data": {
            "text/plain": [
              "\u001b[1m Non-trainable params: \u001b[0m\u001b[38;5;34m0\u001b[0m (0.00 B)\n"
            ],
            "text/html": [
              "<pre style=\"white-space:pre;overflow-x:auto;line-height:normal;font-family:Menlo,'DejaVu Sans Mono',consolas,'Courier New',monospace\"><span style=\"font-weight: bold\"> Non-trainable params: </span><span style=\"color: #00af00; text-decoration-color: #00af00\">0</span> (0.00 B)\n",
              "</pre>\n"
            ]
          },
          "metadata": {}
        }
      ]
    },
    {
      "cell_type": "code",
      "source": [
        "# C) Compiler (descente de gradient, lr = 0,001)\n",
        "\n",
        "from tensorflow.keras import optimizers\n",
        "\n",
        "model_B.compile(\n",
        "    optimizer=optimizers.SGD(learning_rate=1e-3),  # SGD = descente de gradient\n",
        "    loss=\"binary_crossentropy\",                    # labels 0/1 + sigmoid\n",
        "    metrics=[\"accuracy\"]\n",
        ")\n"
      ],
      "metadata": {
        "id": "oDE7PxpyWeKn"
      },
      "execution_count": null,
      "outputs": []
    },
    {
      "cell_type": "code",
      "source": [
        "# Entrainer le mpodele B\n",
        "\n",
        "history_B = model_B.fit(\n",
        "    X_train_B, y_train_B,\n",
        "    epochs=25,\n",
        "    batch_size=128,\n",
        "    validation_data=(X_valid_B, y_valid_B),\n",
        "    verbose=2\n",
        ")\n"
      ],
      "metadata": {
        "colab": {
          "base_uri": "https://localhost:8080/"
        },
        "id": "CIVbSOlFWiOw",
        "outputId": "e6ad64c4-f106-4dfc-fe93-6b6b0d163597"
      },
      "execution_count": null,
      "outputs": [
        {
          "output_type": "stream",
          "name": "stdout",
          "text": [
            "Epoch 1/25\n",
            "85/85 - 1s - 17ms/step - accuracy: 0.8566 - loss: 0.3724 - val_accuracy: 0.9617 - val_loss: 0.2028\n",
            "Epoch 2/25\n",
            "85/85 - 1s - 8ms/step - accuracy: 0.9782 - loss: 0.1472 - val_accuracy: 0.9783 - val_loss: 0.1188\n",
            "Epoch 3/25\n",
            "85/85 - 1s - 15ms/step - accuracy: 0.9856 - loss: 0.0937 - val_accuracy: 0.9808 - val_loss: 0.0851\n",
            "Epoch 4/25\n",
            "85/85 - 1s - 14ms/step - accuracy: 0.9881 - loss: 0.0692 - val_accuracy: 0.9833 - val_loss: 0.0670\n",
            "Epoch 5/25\n",
            "85/85 - 1s - 15ms/step - accuracy: 0.9905 - loss: 0.0552 - val_accuracy: 0.9850 - val_loss: 0.0558\n",
            "Epoch 6/25\n",
            "85/85 - 1s - 8ms/step - accuracy: 0.9915 - loss: 0.0462 - val_accuracy: 0.9850 - val_loss: 0.0481\n",
            "Epoch 7/25\n",
            "85/85 - 2s - 20ms/step - accuracy: 0.9924 - loss: 0.0399 - val_accuracy: 0.9867 - val_loss: 0.0424\n",
            "Epoch 8/25\n",
            "85/85 - 1s - 14ms/step - accuracy: 0.9928 - loss: 0.0352 - val_accuracy: 0.9892 - val_loss: 0.0381\n",
            "Epoch 9/25\n",
            "85/85 - 1s - 10ms/step - accuracy: 0.9930 - loss: 0.0316 - val_accuracy: 0.9900 - val_loss: 0.0346\n",
            "Epoch 10/25\n",
            "85/85 - 1s - 15ms/step - accuracy: 0.9937 - loss: 0.0287 - val_accuracy: 0.9900 - val_loss: 0.0318\n",
            "Epoch 11/25\n",
            "85/85 - 1s - 15ms/step - accuracy: 0.9943 - loss: 0.0263 - val_accuracy: 0.9908 - val_loss: 0.0295\n",
            "Epoch 12/25\n",
            "85/85 - 1s - 16ms/step - accuracy: 0.9947 - loss: 0.0243 - val_accuracy: 0.9917 - val_loss: 0.0275\n",
            "Epoch 13/25\n",
            "85/85 - 1s - 8ms/step - accuracy: 0.9949 - loss: 0.0227 - val_accuracy: 0.9925 - val_loss: 0.0258\n",
            "Epoch 14/25\n",
            "85/85 - 1s - 15ms/step - accuracy: 0.9952 - loss: 0.0212 - val_accuracy: 0.9933 - val_loss: 0.0244\n",
            "Epoch 15/25\n",
            "85/85 - 1s - 8ms/step - accuracy: 0.9956 - loss: 0.0200 - val_accuracy: 0.9942 - val_loss: 0.0232\n",
            "Epoch 16/25\n",
            "85/85 - 1s - 15ms/step - accuracy: 0.9960 - loss: 0.0189 - val_accuracy: 0.9950 - val_loss: 0.0221\n",
            "Epoch 17/25\n",
            "85/85 - 1s - 8ms/step - accuracy: 0.9962 - loss: 0.0180 - val_accuracy: 0.9950 - val_loss: 0.0212\n",
            "Epoch 18/25\n",
            "85/85 - 1s - 8ms/step - accuracy: 0.9963 - loss: 0.0171 - val_accuracy: 0.9950 - val_loss: 0.0203\n",
            "Epoch 19/25\n",
            "85/85 - 1s - 12ms/step - accuracy: 0.9963 - loss: 0.0164 - val_accuracy: 0.9950 - val_loss: 0.0196\n",
            "Epoch 20/25\n",
            "85/85 - 1s - 15ms/step - accuracy: 0.9965 - loss: 0.0157 - val_accuracy: 0.9950 - val_loss: 0.0189\n",
            "Epoch 21/25\n",
            "85/85 - 1s - 12ms/step - accuracy: 0.9966 - loss: 0.0151 - val_accuracy: 0.9950 - val_loss: 0.0183\n",
            "Epoch 22/25\n",
            "85/85 - 1s - 12ms/step - accuracy: 0.9969 - loss: 0.0145 - val_accuracy: 0.9950 - val_loss: 0.0177\n",
            "Epoch 23/25\n",
            "85/85 - 1s - 8ms/step - accuracy: 0.9970 - loss: 0.0140 - val_accuracy: 0.9950 - val_loss: 0.0172\n",
            "Epoch 24/25\n",
            "85/85 - 1s - 16ms/step - accuracy: 0.9971 - loss: 0.0136 - val_accuracy: 0.9950 - val_loss: 0.0168\n",
            "Epoch 25/25\n",
            "85/85 - 1s - 14ms/step - accuracy: 0.9971 - loss: 0.0132 - val_accuracy: 0.9958 - val_loss: 0.0164\n"
          ]
        }
      ]
    },
    {
      "cell_type": "markdown",
      "source": [
        "# 15. Évaluez les performances du modèle B"
      ],
      "metadata": {
        "id": "A7jgtsuMXHPd"
      }
    },
    {
      "cell_type": "code",
      "source": [
        "# Score global (loss + accuracy) sur le JEU DE TEST binaire\n",
        "test_loss_B, test_acc_B = model_B.evaluate(X_test_B, y_test_B, verbose=0)\n",
        "print(f\"[Model B] Test accuracy = {test_acc_B:.4f} | Test loss = {test_loss_B:.4f}\")\n"
      ],
      "metadata": {
        "colab": {
          "base_uri": "https://localhost:8080/"
        },
        "id": "X_FV5niCXKcF",
        "outputId": "16d8ef6a-21c5-412b-d244-91565840726c"
      },
      "execution_count": null,
      "outputs": [
        {
          "output_type": "stream",
          "name": "stdout",
          "text": [
            "[Model B] Test accuracy = 0.9985 | Test loss = 0.0111\n"
          ]
        }
      ]
    },
    {
      "cell_type": "code",
      "source": [
        "# Prédire (probas → classes avec seuil 0.5)\n",
        "\n",
        "import numpy as np\n",
        "\n",
        "# 1) Probabilité d'être Sandal (classe 1) pour chaque image\n",
        "y_proba_B = model_B.predict(X_test_B, verbose=0).ravel()   # shape: (N_test,)\n",
        "\n",
        "# 2) Seuil 0.5 : proba >= 0.5 -> 1 (Sandal), sinon 0 (Shirt)\n",
        "y_pred_B = (y_proba_B >= 0.5).astype(np.int32)\n"
      ],
      "metadata": {
        "id": "_7NBjbaQXPNW"
      },
      "execution_count": null,
      "outputs": []
    },
    {
      "cell_type": "code",
      "source": [
        "# Matrice de confusion + métriques par classe\n",
        "\n",
        "from sklearn.metrics import confusion_matrix, classification_report\n",
        "\n",
        "# Matrice de confusion: lignes = vraies classes (0=Shirt, 1=Sandal), colonnes = prédictions\n",
        "cm_B = confusion_matrix(y_test_B, y_pred_B, labels=[0, 1])\n",
        "print(\"\\nMatrice de confusion (true=lignes, pred=colonnes):\\n\", cm_B)\n",
        "\n",
        "# Déballer TN, FP, FN, TP (ordre: [[TN, FP], [FN, TP]])\n",
        "TN, FP, FN, TP = cm_B.ravel()\n",
        "print(f\"\\nTN={TN}, FP={FP}, FN={FN}, TP={TP}\")\n",
        "\n",
        "# Taux utiles\n",
        "precision_pos = TP / (TP + FP + 1e-12)   # précision \"Sandal\"\n",
        "recall_pos    = TP / (TP + FN + 1e-12)   # rappel/sensibilité \"Sandal\"\n",
        "spec_neg      = TN / (TN + FP + 1e-12)   # spécificité \"Shirt\"\n",
        "print(f\"Precision(1=Sandal)={precision_pos:.4f} | Recall(1)={recall_pos:.4f} | Specificity(0=Shirt)={spec_neg:.4f}\")\n",
        "\n",
        "# Rapport complet (precision/recall/F1/support)\n",
        "print(\"\\nRapport de classification :\\n\")\n",
        "print(classification_report(\n",
        "    y_test_B, y_pred_B,\n",
        "    target_names=[\"Shirt (0)\", \"Sandal (1)\"],\n",
        "    digits=4\n",
        "))\n"
      ],
      "metadata": {
        "colab": {
          "base_uri": "https://localhost:8080/"
        },
        "id": "SBLrBFhkXXrm",
        "outputId": "28ca16bc-ef12-49b0-d3c5-eb5990090398"
      },
      "execution_count": null,
      "outputs": [
        {
          "output_type": "stream",
          "name": "stdout",
          "text": [
            "\n",
            "Matrice de confusion (true=lignes, pred=colonnes):\n",
            " [[998   2]\n",
            " [  1 999]]\n",
            "\n",
            "TN=998, FP=2, FN=1, TP=999\n",
            "Precision(1=Sandal)=0.9980 | Recall(1)=0.9990 | Specificity(0=Shirt)=0.9980\n",
            "\n",
            "Rapport de classification :\n",
            "\n",
            "              precision    recall  f1-score   support\n",
            "\n",
            "   Shirt (0)     0.9990    0.9980    0.9985      1000\n",
            "  Sandal (1)     0.9980    0.9990    0.9985      1000\n",
            "\n",
            "    accuracy                         0.9985      2000\n",
            "   macro avg     0.9985    0.9985    0.9985      2000\n",
            "weighted avg     0.9985    0.9985    0.9985      2000\n",
            "\n"
          ]
        }
      ]
    },
    {
      "cell_type": "markdown",
      "source": [
        "# ✅ Résultats Modèle B (Shirt=0, Sandal=1)\n",
        "\n",
        "**Score global**\n",
        "- Accuracy test = **0.9985** (1999/2000 bons)\n",
        "- Loss test = **0.0094**\n",
        "\n",
        "- C’est **quasi-parfait** : seulement **3 erreurs** (2 FP, 1 FN) sur **2000** images.\n",
        "\n",
        "- Modèle B **excellent** : <0.2% d’erreurs, métriques quasi idéales.\n"
      ],
      "metadata": {
        "id": "o_t1bwuvXyYN"
      }
    },
    {
      "cell_type": "markdown",
      "source": [
        "# 16. Utilisez le modèle A pour entrainer le modèle B (apprentissage par transfert).  Évaluez les performances de ce modèle"
      ],
      "metadata": {
        "id": "PrxPL-owX5eq"
      }
    },
    {
      "cell_type": "code",
      "source": [
        "import tensorflow as tf\n",
        "from tensorflow.keras import layers, models, optimizers\n",
        "\n",
        "# 1) Nouveau input symbolique\n",
        "inp = tf.keras.Input(shape=(28, 28))\n",
        "\n",
        "# 2) Rejouer TOUTES les couches de A SAUF la dernière (Dense(8, softmax))\n",
        "x = inp\n",
        "for lyr in model_A.layers[:-1]:   # <- inclut Flatten et toutes les Dense cachées\n",
        "    x = lyr(x)\n",
        "\n",
        "# 3) La \"base\" reprend exactement les mêmes couches/poids que A (moins la dernière)\n",
        "base_A = tf.keras.Model(inp, x, name=\"base_A\")\n",
        "base_A.trainable = False          # Phase 1 : on gèle la base\n"
      ],
      "metadata": {
        "id": "X6dYG2DzYDEr"
      },
      "execution_count": null,
      "outputs": []
    },
    {
      "cell_type": "code",
      "source": [
        "# 4) Modèle transféré = base gelée + tête binaire sigmoid\n",
        "model_B_TL = models.Sequential([\n",
        "    base_A,\n",
        "    layers.Dense(1, activation=\"sigmoid\")   # proba Sandal (=1)\n",
        "])\n",
        "\n",
        "# 5) Descente de gradient (SGD) lr=0.001 + BCE (binaire)\n",
        "model_B_TL.compile(\n",
        "    optimizer=optimizers.SGD(learning_rate=1e-3),\n",
        "    loss=\"binary_crossentropy\",\n",
        "    metrics=[\"accuracy\"]\n",
        ")\n",
        "\n",
        "model_B_TL.summary()\n"
      ],
      "metadata": {
        "colab": {
          "base_uri": "https://localhost:8080/",
          "height": 204
        },
        "id": "RbRKbxsLYSsn",
        "outputId": "b1ccfd45-25e6-4bf7-c4a4-a448aca5072b"
      },
      "execution_count": null,
      "outputs": [
        {
          "output_type": "display_data",
          "data": {
            "text/plain": [
              "\u001b[1mModel: \"sequential_11\"\u001b[0m\n"
            ],
            "text/html": [
              "<pre style=\"white-space:pre;overflow-x:auto;line-height:normal;font-family:Menlo,'DejaVu Sans Mono',consolas,'Courier New',monospace\"><span style=\"font-weight: bold\">Model: \"sequential_11\"</span>\n",
              "</pre>\n"
            ]
          },
          "metadata": {}
        },
        {
          "output_type": "display_data",
          "data": {
            "text/plain": [
              "┏━━━━━━━━━━━━━━━━━━━━━━━━━━━━━━━━━┳━━━━━━━━━━━━━━━━━━━━━━━━┳━━━━━━━━━━━━━━━┓\n",
              "┃\u001b[1m \u001b[0m\u001b[1mLayer (type)                   \u001b[0m\u001b[1m \u001b[0m┃\u001b[1m \u001b[0m\u001b[1mOutput Shape          \u001b[0m\u001b[1m \u001b[0m┃\u001b[1m \u001b[0m\u001b[1m      Param #\u001b[0m\u001b[1m \u001b[0m┃\n",
              "┡━━━━━━━━━━━━━━━━━━━━━━━━━━━━━━━━━╇━━━━━━━━━━━━━━━━━━━━━━━━╇━━━━━━━━━━━━━━━┩\n",
              "│ base_A (\u001b[38;5;33mFunctional\u001b[0m)             │ (\u001b[38;5;45mNone\u001b[0m, \u001b[38;5;34m50\u001b[0m)             │       \u001b[38;5;34m275,750\u001b[0m │\n",
              "├─────────────────────────────────┼────────────────────────┼───────────────┤\n",
              "│ dense_41 (\u001b[38;5;33mDense\u001b[0m)                │ (\u001b[38;5;45mNone\u001b[0m, \u001b[38;5;34m1\u001b[0m)              │            \u001b[38;5;34m51\u001b[0m │\n",
              "└─────────────────────────────────┴────────────────────────┴───────────────┘\n"
            ],
            "text/html": [
              "<pre style=\"white-space:pre;overflow-x:auto;line-height:normal;font-family:Menlo,'DejaVu Sans Mono',consolas,'Courier New',monospace\">┏━━━━━━━━━━━━━━━━━━━━━━━━━━━━━━━━━┳━━━━━━━━━━━━━━━━━━━━━━━━┳━━━━━━━━━━━━━━━┓\n",
              "┃<span style=\"font-weight: bold\"> Layer (type)                    </span>┃<span style=\"font-weight: bold\"> Output Shape           </span>┃<span style=\"font-weight: bold\">       Param # </span>┃\n",
              "┡━━━━━━━━━━━━━━━━━━━━━━━━━━━━━━━━━╇━━━━━━━━━━━━━━━━━━━━━━━━╇━━━━━━━━━━━━━━━┩\n",
              "│ base_A (<span style=\"color: #0087ff; text-decoration-color: #0087ff\">Functional</span>)             │ (<span style=\"color: #00d7ff; text-decoration-color: #00d7ff\">None</span>, <span style=\"color: #00af00; text-decoration-color: #00af00\">50</span>)             │       <span style=\"color: #00af00; text-decoration-color: #00af00\">275,750</span> │\n",
              "├─────────────────────────────────┼────────────────────────┼───────────────┤\n",
              "│ dense_41 (<span style=\"color: #0087ff; text-decoration-color: #0087ff\">Dense</span>)                │ (<span style=\"color: #00d7ff; text-decoration-color: #00d7ff\">None</span>, <span style=\"color: #00af00; text-decoration-color: #00af00\">1</span>)              │            <span style=\"color: #00af00; text-decoration-color: #00af00\">51</span> │\n",
              "└─────────────────────────────────┴────────────────────────┴───────────────┘\n",
              "</pre>\n"
            ]
          },
          "metadata": {}
        },
        {
          "output_type": "display_data",
          "data": {
            "text/plain": [
              "\u001b[1m Total params: \u001b[0m\u001b[38;5;34m275,801\u001b[0m (1.05 MB)\n"
            ],
            "text/html": [
              "<pre style=\"white-space:pre;overflow-x:auto;line-height:normal;font-family:Menlo,'DejaVu Sans Mono',consolas,'Courier New',monospace\"><span style=\"font-weight: bold\"> Total params: </span><span style=\"color: #00af00; text-decoration-color: #00af00\">275,801</span> (1.05 MB)\n",
              "</pre>\n"
            ]
          },
          "metadata": {}
        },
        {
          "output_type": "display_data",
          "data": {
            "text/plain": [
              "\u001b[1m Trainable params: \u001b[0m\u001b[38;5;34m51\u001b[0m (204.00 B)\n"
            ],
            "text/html": [
              "<pre style=\"white-space:pre;overflow-x:auto;line-height:normal;font-family:Menlo,'DejaVu Sans Mono',consolas,'Courier New',monospace\"><span style=\"font-weight: bold\"> Trainable params: </span><span style=\"color: #00af00; text-decoration-color: #00af00\">51</span> (204.00 B)\n",
              "</pre>\n"
            ]
          },
          "metadata": {}
        },
        {
          "output_type": "display_data",
          "data": {
            "text/plain": [
              "\u001b[1m Non-trainable params: \u001b[0m\u001b[38;5;34m275,750\u001b[0m (1.05 MB)\n"
            ],
            "text/html": [
              "<pre style=\"white-space:pre;overflow-x:auto;line-height:normal;font-family:Menlo,'DejaVu Sans Mono',consolas,'Courier New',monospace\"><span style=\"font-weight: bold\"> Non-trainable params: </span><span style=\"color: #00af00; text-decoration-color: #00af00\">275,750</span> (1.05 MB)\n",
              "</pre>\n"
            ]
          },
          "metadata": {}
        }
      ]
    },
    {
      "cell_type": "code",
      "source": [
        "hist_head = model_B_TL.fit(\n",
        "    X_train_B, y_train_B,\n",
        "    epochs=8,\n",
        "    batch_size=128,\n",
        "    validation_data=(X_valid_B, y_valid_B),\n",
        "    verbose=2\n",
        ")\n",
        "\n",
        "loss_tl_head, acc_tl_head = model_B_TL.evaluate(X_test_B, y_test_B, verbose=0)\n",
        "print(f\"[B_TL - tête gelée] Test acc = {acc_tl_head:.4f} | Test loss = {loss_tl_head:.4f}\")\n"
      ],
      "metadata": {
        "colab": {
          "base_uri": "https://localhost:8080/"
        },
        "id": "TKzW5zeyYWph",
        "outputId": "79b400af-7ce0-47ad-fa67-659f4b054329"
      },
      "execution_count": null,
      "outputs": [
        {
          "output_type": "stream",
          "name": "stdout",
          "text": [
            "Epoch 1/8\n",
            "85/85 - 1s - 14ms/step - accuracy: 0.3917 - loss: 0.9343 - val_accuracy: 0.7108 - val_loss: 0.5446\n",
            "Epoch 2/8\n",
            "85/85 - 1s - 12ms/step - accuracy: 0.8712 - loss: 0.4056 - val_accuracy: 0.9650 - val_loss: 0.2836\n",
            "Epoch 3/8\n",
            "85/85 - 1s - 7ms/step - accuracy: 0.9747 - loss: 0.2390 - val_accuracy: 0.9892 - val_loss: 0.1870\n",
            "Epoch 4/8\n",
            "85/85 - 0s - 5ms/step - accuracy: 0.9891 - loss: 0.1687 - val_accuracy: 0.9908 - val_loss: 0.1401\n",
            "Epoch 5/8\n",
            "85/85 - 1s - 7ms/step - accuracy: 0.9926 - loss: 0.1314 - val_accuracy: 0.9933 - val_loss: 0.1130\n",
            "Epoch 6/8\n",
            "85/85 - 1s - 8ms/step - accuracy: 0.9939 - loss: 0.1086 - val_accuracy: 0.9942 - val_loss: 0.0955\n",
            "Epoch 7/8\n",
            "85/85 - 1s - 11ms/step - accuracy: 0.9946 - loss: 0.0932 - val_accuracy: 0.9942 - val_loss: 0.0834\n",
            "Epoch 8/8\n",
            "85/85 - 1s - 14ms/step - accuracy: 0.9953 - loss: 0.0822 - val_accuracy: 0.9942 - val_loss: 0.0744\n",
            "[B_TL - tête gelée] Test acc = 0.9940 | Test loss = 0.0796\n"
          ]
        }
      ]
    },
    {
      "cell_type": "code",
      "source": [
        "# 6) Autoriser l'adaptation fine du \"corps\" (toutes les couches)\n",
        "base_A.trainable = True\n",
        "\n",
        "# (Option si tu veux être plus prudent : ne dégeler que les 2 dernières couches)\n",
        "# for layer in base_A.layers[:-2]:\n",
        "#     layer.trainable = False\n",
        "\n",
        "# 7) Re-compiler avec un LR plus petit pour ne pas \"casser\" les features\n",
        "model_B_TL.compile(\n",
        "    optimizer=optimizers.SGD(learning_rate=5e-4),\n",
        "    loss=\"binary_crossentropy\",\n",
        "    metrics=[\"accuracy\"]\n",
        ")\n",
        "\n",
        "# 8) Fine-tune\n",
        "hist_ft = model_B_TL.fit(\n",
        "    X_train_B, y_train_B,\n",
        "    epochs=8,\n",
        "    batch_size=128,\n",
        "    validation_data=(X_valid_B, y_valid_B),\n",
        "    verbose=2\n",
        ")\n",
        "\n",
        "loss_tl, acc_tl = model_B_TL.evaluate(X_test_B, y_test_B, verbose=0)\n",
        "print(f\"[B_TL - fine-tuned] Test acc = {acc_tl:.4f} | Test loss = {loss_tl:.4f}\")\n"
      ],
      "metadata": {
        "colab": {
          "base_uri": "https://localhost:8080/"
        },
        "id": "tTzc6vsRYaWs",
        "outputId": "cf721bec-bdfe-4298-a3bc-b7083df33037"
      },
      "execution_count": null,
      "outputs": [
        {
          "output_type": "stream",
          "name": "stdout",
          "text": [
            "Epoch 1/8\n",
            "85/85 - 1s - 17ms/step - accuracy: 0.9954 - loss: 0.0655 - val_accuracy: 0.9950 - val_loss: 0.0540\n",
            "Epoch 2/8\n",
            "85/85 - 1s - 12ms/step - accuracy: 0.9957 - loss: 0.0498 - val_accuracy: 0.9950 - val_loss: 0.0436\n",
            "Epoch 3/8\n",
            "85/85 - 2s - 20ms/step - accuracy: 0.9957 - loss: 0.0411 - val_accuracy: 0.9942 - val_loss: 0.0373\n",
            "Epoch 4/8\n",
            "85/85 - 1s - 12ms/step - accuracy: 0.9956 - loss: 0.0355 - val_accuracy: 0.9942 - val_loss: 0.0330\n",
            "Epoch 5/8\n",
            "85/85 - 1s - 16ms/step - accuracy: 0.9957 - loss: 0.0316 - val_accuracy: 0.9950 - val_loss: 0.0300\n",
            "Epoch 6/8\n",
            "85/85 - 1s - 12ms/step - accuracy: 0.9956 - loss: 0.0287 - val_accuracy: 0.9950 - val_loss: 0.0276\n",
            "Epoch 7/8\n",
            "85/85 - 1s - 8ms/step - accuracy: 0.9956 - loss: 0.0264 - val_accuracy: 0.9950 - val_loss: 0.0258\n",
            "Epoch 8/8\n",
            "85/85 - 1s - 8ms/step - accuracy: 0.9958 - loss: 0.0247 - val_accuracy: 0.9950 - val_loss: 0.0243\n",
            "[B_TL - fine-tuned] Test acc = 0.9975 | Test loss = 0.0247\n"
          ]
        }
      ]
    },
    {
      "cell_type": "markdown",
      "source": [],
      "metadata": {
        "id": "CP0gu3nKaMdi"
      }
    },
    {
      "cell_type": "markdown",
      "source": [
        "# ✅ Transfert A ➜ B :\n",
        "\n",
        "Le **transfert A ➜ B** fonctionne et **se rapproche** (0.9958), mais l’entraînement **from scratch** (0.9985) reste **légèrement supérieur**\n"
      ],
      "metadata": {
        "id": "wAMzjr3Ta3dX"
      }
    }
  ]
}